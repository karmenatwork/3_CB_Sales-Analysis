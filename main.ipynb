{
 "cells": [
  {
   "cell_type": "markdown",
   "metadata": {},
   "source": [
    "# Sales "
   ]
  },
  {
   "cell_type": "markdown",
   "metadata": {},
   "source": [
    "## Import packages"
   ]
  },
  {
   "cell_type": "code",
   "execution_count": 3,
   "metadata": {},
   "outputs": [
    {
     "name": "stdout",
     "output_type": "stream",
     "text": [
      "All packages imported successfully!\n"
     ]
    }
   ],
   "source": [
    "# importing packages\n",
    "import pandas as pd\n",
    "import numpy as np\n",
    "import utils\n",
    "print(\"All packages imported successfully!\")"
   ]
  },
  {
   "cell_type": "markdown",
   "metadata": {},
   "source": [
    "## Import and inspect data"
   ]
  },
  {
   "cell_type": "code",
   "execution_count": 61,
   "metadata": {},
   "outputs": [
    {
     "name": "stdout",
     "output_type": "stream",
     "text": [
      "df.head()\n",
      "                   Time State     Group  Unit  Sales\n",
      "Date                                               \n",
      "2020-10-01     Morning    WA      Kids     8  20000\n",
      "2020-10-01     Morning    WA       Men     8  20000\n",
      "2020-10-01     Morning    WA     Women     4  10000\n",
      "2020-10-01     Morning    WA   Seniors    15  37500\n",
      "2020-10-01   Afternoon    WA      Kids     3   7500 \n",
      "\n",
      "df.tail() \n",
      "                   Time State     Group  Unit  Sales\n",
      "Date                                               \n",
      "2020-12-30   Afternoon   TAS   Seniors    14  35000\n",
      "2020-12-30     Evening   TAS      Kids    15  37500\n",
      "2020-12-30     Evening   TAS       Men    15  37500\n",
      "2020-12-30     Evening   TAS     Women    11  27500\n",
      "2020-12-30     Evening   TAS   Seniors    13  32500\n",
      "\n",
      "df.describe()\n"
     ]
    },
    {
     "data": {
      "text/html": [
       "<div>\n",
       "<style scoped>\n",
       "    .dataframe tbody tr th:only-of-type {\n",
       "        vertical-align: middle;\n",
       "    }\n",
       "\n",
       "    .dataframe tbody tr th {\n",
       "        vertical-align: top;\n",
       "    }\n",
       "\n",
       "    .dataframe thead th {\n",
       "        text-align: right;\n",
       "    }\n",
       "</style>\n",
       "<table border=\"1\" class=\"dataframe\">\n",
       "  <thead>\n",
       "    <tr style=\"text-align: right;\">\n",
       "      <th></th>\n",
       "      <th>Unit</th>\n",
       "      <th>Sales</th>\n",
       "    </tr>\n",
       "  </thead>\n",
       "  <tbody>\n",
       "    <tr>\n",
       "      <th>count</th>\n",
       "      <td>7560.000000</td>\n",
       "      <td>7560.000000</td>\n",
       "    </tr>\n",
       "    <tr>\n",
       "      <th>mean</th>\n",
       "      <td>18.005423</td>\n",
       "      <td>45013.558201</td>\n",
       "    </tr>\n",
       "    <tr>\n",
       "      <th>std</th>\n",
       "      <td>12.901403</td>\n",
       "      <td>32253.506944</td>\n",
       "    </tr>\n",
       "    <tr>\n",
       "      <th>min</th>\n",
       "      <td>2.000000</td>\n",
       "      <td>5000.000000</td>\n",
       "    </tr>\n",
       "    <tr>\n",
       "      <th>25%</th>\n",
       "      <td>8.000000</td>\n",
       "      <td>20000.000000</td>\n",
       "    </tr>\n",
       "    <tr>\n",
       "      <th>50%</th>\n",
       "      <td>14.000000</td>\n",
       "      <td>35000.000000</td>\n",
       "    </tr>\n",
       "    <tr>\n",
       "      <th>75%</th>\n",
       "      <td>26.000000</td>\n",
       "      <td>65000.000000</td>\n",
       "    </tr>\n",
       "    <tr>\n",
       "      <th>max</th>\n",
       "      <td>65.000000</td>\n",
       "      <td>162500.000000</td>\n",
       "    </tr>\n",
       "  </tbody>\n",
       "</table>\n",
       "</div>"
      ],
      "text/plain": [
       "              Unit          Sales\n",
       "count  7560.000000    7560.000000\n",
       "mean     18.005423   45013.558201\n",
       "std      12.901403   32253.506944\n",
       "min       2.000000    5000.000000\n",
       "25%       8.000000   20000.000000\n",
       "50%      14.000000   35000.000000\n",
       "75%      26.000000   65000.000000\n",
       "max      65.000000  162500.000000"
      ]
     },
     "execution_count": 61,
     "metadata": {},
     "output_type": "execute_result"
    }
   ],
   "source": [
    "# Dataframe from csv file\n",
    "df = pd.read_csv(\"AusApparalSales4thQrt2020.csv\", parse_dates=['Date'], index_col=['Date'])\n",
    "\n",
    "# pd.options.display.float_format = '{:,.2f}'.format\n",
    "# df.style.format(\"{.2f\")\n",
    "\n",
    "print(f\"df.head()\\n {df.head()} \\n\")\n",
    "print(f\"df.tail() \\n {df.tail()}\\n\")\n",
    "print(\"df.describe()\")\n",
    "df.describe()"
   ]
  },
  {
   "cell_type": "code",
   "execution_count": 72,
   "metadata": {},
   "outputs": [
    {
     "data": {
      "text/plain": [
       "[None]"
      ]
     },
     "execution_count": 72,
     "metadata": {},
     "output_type": "execute_result"
    }
   ],
   "source": [
    "# # Reset index to get dimensions -- we want to list Date as a column\n",
    "def current_indexes():\n",
    "    return df.index.names\n",
    "\n",
    "def clear_indexes(index_name):\n",
    "    if index_name in current_indexes():\n",
    "        df.reset_index(inplace=True)\n",
    "    return current_indexes()\n",
    "    \n",
    "clear_indexes('Date')"
   ]
  },
  {
   "cell_type": "code",
   "execution_count": 73,
   "metadata": {},
   "outputs": [
    {
     "name": "stdout",
     "output_type": "stream",
     "text": [
      "Dimensions (7560, 6) Data contains 7560 rows and 6 columns\n",
      "Columns are ['Date', 'Time', 'State', 'Group', 'Unit', 'Sales']\n"
     ]
    }
   ],
   "source": [
    "dimensions = df.shape\n",
    "print(\n",
    "    f\"Dimensions {dimensions} Data contains {dimensions[0]} rows and {dimensions[1]} columns\"\n",
    ")\n",
    "print(f\"Columns are {list(df.columns)}\")"
   ]
  },
  {
   "cell_type": "code",
   "execution_count": 74,
   "metadata": {},
   "outputs": [
    {
     "data": {
      "text/plain": [
       "Index(['Time', 'State', 'Group'], dtype='object')"
      ]
     },
     "execution_count": 74,
     "metadata": {},
     "output_type": "execute_result"
    }
   ],
   "source": [
    "df.select_dtypes(np.object_).columns"
   ]
  },
  {
   "cell_type": "code",
   "execution_count": 75,
   "metadata": {},
   "outputs": [
    {
     "name": "stdout",
     "output_type": "stream",
     "text": [
      "Before optimizing\n",
      "size: 45360\n",
      "\n",
      "memory_usage: \n",
      "Index       128\n",
      "Date      60480\n",
      "Time     496440\n",
      "State    457920\n",
      "Group    474390\n",
      "Unit      60480\n",
      "Sales     60480\n",
      "dtype: int64 \n",
      "\n",
      "Date     datetime64[ns]\n",
      "Time             object\n",
      "State            object\n",
      "Group            object\n",
      "Unit              int64\n",
      "Sales             int64\n",
      "dtype: object\n"
     ]
    }
   ],
   "source": [
    "# Check memory\n",
    "print(\"Before optimizing\")\n",
    "print(f\"size: {df.size}\\n\")\n",
    "print(f\"memory_usage: \\n{df.memory_usage(deep=True)} \\n\")\n",
    "print(f\"{df.dtypes}\")"
   ]
  },
  {
   "cell_type": "code",
   "execution_count": 76,
   "metadata": {},
   "outputs": [],
   "source": [
    "# Optimize memory\n",
    "# Convert object type to str, Date to datetime and reduce int.\n",
    "cols = df.select_dtypes(np.object_).columns[1:]  # every object type except Date\n",
    "df[cols] = df[cols].astype(\"string\")\n",
    "df[\"Date\"] = pd.to_datetime(df[\"Date\"])\n",
    "df[\"Unit\"] = df[\"Unit\"].astype(\"int8\")\n",
    "df[\"Sales\"] = df[\"Sales\"].astype(\"int32\")"
   ]
  },
  {
   "cell_type": "code",
   "execution_count": 77,
   "metadata": {},
   "outputs": [
    {
     "name": "stdout",
     "output_type": "stream",
     "text": [
      "After optimizing\n",
      "size: 45360\n",
      "\n",
      "memory_usage: \n",
      "Index       128\n",
      "Date      60480\n",
      "Time     496440\n",
      "State    457920\n",
      "Group    474390\n",
      "Unit       7560\n",
      "Sales     30240\n",
      "dtype: int64\n",
      "\n",
      "Date     datetime64[ns]\n",
      "Time             object\n",
      "State    string[python]\n",
      "Group    string[python]\n",
      "Unit               int8\n",
      "Sales             int32\n",
      "dtype: object\n"
     ]
    }
   ],
   "source": [
    "print(\"After optimizing\")\n",
    "print(f\"size: {df.size}\\n\")\n",
    "print(f\"memory_usage: \\n{df.memory_usage(deep=True)}\\n\")\n",
    "print(f\"{df.dtypes}\")"
   ]
  },
  {
   "cell_type": "markdown",
   "metadata": {},
   "source": [
    "#### Observations\n",
    "\n",
    "We can see that memory usage reduced at least in `Date`, `Unit`, and `Sales`. It wasn't the case for Time, State, and Group. "
   ]
  },
  {
   "cell_type": "code",
   "execution_count": 78,
   "metadata": {},
   "outputs": [
    {
     "name": "stdout",
     "output_type": "stream",
     "text": [
      "After changing back\n",
      "memory_usage: \n",
      "Index       128\n",
      "Date      60480\n",
      "Time     496440\n",
      "State    457920\n",
      "Group    474390\n",
      "Unit       7560\n",
      "Sales     30240\n",
      "dtype: int64\n",
      "\n",
      "Date     datetime64[ns]\n",
      "Time             object\n",
      "State            object\n",
      "Group            object\n",
      "Unit               int8\n",
      "Sales             int32\n",
      "dtype: object\n"
     ]
    }
   ],
   "source": [
    "# Changing Time, State, Group back to object\n",
    "df[cols] = df[cols].astype(object)\n",
    "print(\"After changing back\")\n",
    "print(f\"memory_usage: \\n{df.memory_usage(deep=True)}\\n\")\n",
    "print(f\"{df.dtypes}\")"
   ]
  },
  {
   "cell_type": "markdown",
   "metadata": {},
   "source": [
    "### Data wrangling\n",
    "\n",
    "a. Ensure that the data is clean and free from any missing or incorrect entries."
   ]
  },
  {
   "cell_type": "code",
   "execution_count": 79,
   "metadata": {},
   "outputs": [
    {
     "name": "stdout",
     "output_type": "stream",
     "text": [
      "<class 'pandas.core.frame.DataFrame'>\n",
      "RangeIndex: 7560 entries, 0 to 7559\n",
      "Data columns (total 6 columns):\n",
      " #   Column  Non-Null Count  Dtype         \n",
      "---  ------  --------------  -----         \n",
      " 0   Date    7560 non-null   datetime64[ns]\n",
      " 1   Time    7560 non-null   object        \n",
      " 2   State   7560 non-null   object        \n",
      " 3   Group   7560 non-null   object        \n",
      " 4   Unit    7560 non-null   int8          \n",
      " 5   Sales   7560 non-null   int32         \n",
      "dtypes: datetime64[ns](1), int32(1), int8(1), object(3)\n",
      "memory usage: 273.3+ KB\n"
     ]
    }
   ],
   "source": [
    "df.info(verbose=True)\n",
    "# df.head()"
   ]
  },
  {
   "cell_type": "code",
   "execution_count": 80,
   "metadata": {},
   "outputs": [
    {
     "name": "stdout",
     "output_type": "stream",
     "text": [
      "Find rows with at least one NA value: Empty DataFrame\n",
      "Columns: [Date, Time, State, Group, Unit, Sales]\n",
      "Index: [] \n",
      "\n",
      "Find columns with at least one empty value: Index([], dtype='object')\n",
      "\n",
      "Checking for null in any of the columns: \n",
      "Date     0\n",
      "Time     0\n",
      "State    0\n",
      "Group    0\n",
      "Unit     0\n",
      "Sales    0\n",
      "dtype: int64\n"
     ]
    },
    {
     "data": {
      "text/plain": [
       "Date     7560\n",
       "Time     7560\n",
       "State    7560\n",
       "Group    7560\n",
       "Unit     7560\n",
       "Sales    7560\n",
       "dtype: int64"
      ]
     },
     "execution_count": 80,
     "metadata": {},
     "output_type": "execute_result"
    }
   ],
   "source": [
    "# Find rows with at least one NA value\n",
    "print(f\"Find rows with at least one NA value: {df[df.isna().any(axis=1)]} \\n\")\n",
    "\n",
    "# Find rows where all values are empty\n",
    "# df[df.isna().all(axis=1)]\n",
    "\n",
    "# Find columns with at least one empty value\n",
    "print(f\"Find columns with at least one empty value: {df.columns[df.isna().any()]}\\n\")\n",
    "\n",
    "# Find columns where all values are empty\n",
    "# df.columns[df.isna().all()]\n",
    "\n",
    "# Checking for null in any of the columns\n",
    "print(f\"Checking for null in any of the columns: \\n{df.isna().sum()}\")\n",
    "df.notna().sum()"
   ]
  },
  {
   "cell_type": "markdown",
   "metadata": {},
   "source": [
    "#### Observations\n",
    "\n",
    "In the result, we can see that the data does not have null values:\n",
    "\n",
    "- `df.info()` is telling us that 7560 records are non-null, and with `df.shape` we confirmed that there are 7560 rows.\n",
    "- `df.isna().sum()`returns 0 for each column\n",
    "- `df.notnat().sum()` returns 7560 for each columns, which tells me that there are not NaN\n",
    "\n",
    "However, `isna()` or `df.notna()` doesn't seen to check for missing values (spaces, empty string)\n",
    "\n",
    "For practice purposes, I added NaN and empty string to the dataframe to ensure I checked for empty string and NaN values. "
   ]
  },
  {
   "cell_type": "code",
   "execution_count": 215,
   "metadata": {},
   "outputs": [
    {
     "data": {
      "text/html": [
       "<div>\n",
       "<style scoped>\n",
       "    .dataframe tbody tr th:only-of-type {\n",
       "        vertical-align: middle;\n",
       "    }\n",
       "\n",
       "    .dataframe tbody tr th {\n",
       "        vertical-align: top;\n",
       "    }\n",
       "\n",
       "    .dataframe thead th {\n",
       "        text-align: right;\n",
       "    }\n",
       "</style>\n",
       "<table border=\"1\" class=\"dataframe\">\n",
       "  <thead>\n",
       "    <tr style=\"text-align: right;\">\n",
       "      <th></th>\n",
       "      <th>Date</th>\n",
       "      <th>Time</th>\n",
       "      <th>State</th>\n",
       "      <th>Group</th>\n",
       "      <th>Unit</th>\n",
       "      <th>Sales</th>\n",
       "    </tr>\n",
       "  </thead>\n",
       "  <tbody>\n",
       "    <tr>\n",
       "      <th>7560</th>\n",
       "      <td>2020-12-29</td>\n",
       "      <td>Afternoon</td>\n",
       "      <td></td>\n",
       "      <td>Seniors</td>\n",
       "      <td>12</td>\n",
       "      <td>30500</td>\n",
       "    </tr>\n",
       "    <tr>\n",
       "      <th>7561</th>\n",
       "      <td>2020-12-30</td>\n",
       "      <td>Evening</td>\n",
       "      <td>TAS</td>\n",
       "      <td>None</td>\n",
       "      <td>12</td>\n",
       "      <td>43500</td>\n",
       "    </tr>\n",
       "    <tr>\n",
       "      <th>7562</th>\n",
       "      <td>2020-12-31</td>\n",
       "      <td>NaN</td>\n",
       "      <td>TAS</td>\n",
       "      <td>Kids</td>\n",
       "      <td>12</td>\n",
       "      <td>33500</td>\n",
       "    </tr>\n",
       "    <tr>\n",
       "      <th>7563</th>\n",
       "      <td>2020-12-31</td>\n",
       "      <td>None</td>\n",
       "      <td>WA</td>\n",
       "      <td>NaN</td>\n",
       "      <td>4</td>\n",
       "      <td>53500</td>\n",
       "    </tr>\n",
       "    <tr>\n",
       "      <th>7564</th>\n",
       "      <td>2020-12-31</td>\n",
       "      <td>Morning</td>\n",
       "      <td>WA</td>\n",
       "      <td>NaN</td>\n",
       "      <td>4</td>\n",
       "      <td>53500</td>\n",
       "    </tr>\n",
       "  </tbody>\n",
       "</table>\n",
       "</div>"
      ],
      "text/plain": [
       "           Date       Time  State    Group  Unit  Sales\n",
       "7560 2020-12-29  Afternoon         Seniors    12  30500\n",
       "7561 2020-12-30    Evening    TAS     None    12  43500\n",
       "7562 2020-12-31        NaN    TAS    Kids     12  33500\n",
       "7563 2020-12-31       None  WA         NaN     4  53500\n",
       "7564 2020-12-31    Morning  WA         NaN     4  53500"
      ]
     },
     "execution_count": 215,
     "metadata": {},
     "output_type": "execute_result"
    }
   ],
   "source": [
    "from datetime import datetime\n",
    "import locale\n",
    "\n",
    "# Note:\n",
    "# I was getting \"time data '29-Dec-2020' does not match format '%d-%b-%Y'\"\"\n",
    "# The %b directive in the strptime method is locale-dependent so I set it to EN-US\n",
    "\n",
    "# Set the locale to English\n",
    "locale.setlocale(locale.LC_ALL, \"en_US.UTF-8\")\n",
    "\n",
    "# 20-Dec-2020,'Afternoon', '', Seniors, 13, 32500\n",
    "# 30-Dec-2020','Evening', 'TAS',None,12, 33500\n",
    "# 31-Dec-2020',np.nan, 'TAS','Kids',12, 3350\n",
    "\n",
    "# Add 3 rows with empty values, None and NaN to the dataframe\n",
    "df2 = df.copy()\n",
    "df2.head()\n",
    "df2.loc[len(df2.index)] = [\n",
    "    datetime.strptime(\"29-Dec-2020\", \"%d-%b-%Y\"),\n",
    "    \"Afternoon\",\n",
    "    \"\",\n",
    "    \"Seniors\",\n",
    "    12,\n",
    "    30500,\n",
    "]  # empty value in State\n",
    "df2.loc[len(df2.index)] = [\n",
    "    datetime.strptime(\"30-Dec-2020\", \"%d-%b-%Y\"),\n",
    "    \" Evening\",\n",
    "    \"TAS\",\n",
    "    None,\n",
    "    12,\n",
    "    43500,\n",
    "]  # None value in Group\n",
    "df2.loc[len(df2.index)] = [\n",
    "    datetime.strptime(\"31-Dec-2020\", \"%d-%b-%Y\"),\n",
    "    np.nan,\n",
    "    \" TAS\",\n",
    "    \"Kids \",\n",
    "    12,\n",
    "    33500,\n",
    "]  # Nan value in Time, Add left Space on State\n",
    "df2.loc[len(df2.index)] = [\n",
    "    datetime.strptime(\"31-Dec-2020\", \"%d-%b-%Y\"),\n",
    "    None,\n",
    "    \"WA   \",\n",
    "    np.nan,\n",
    "    4,\n",
    "    53500,\n",
    "]  # None in Time, Nan value in Group, Add right space on State\n",
    "df2.loc[len(df2.index)] = [\n",
    "    datetime.strptime(\"31-Dec-2020\", \"%d-%b-%Y\"),\n",
    "    \"Morning\",\n",
    "    \"WA   \",\n",
    "    np.nan,\n",
    "    4,\n",
    "    53500,\n",
    "]  # None in Time, Nan value in Group, Add right space on State\n",
    "df2.tail()"
   ]
  },
  {
   "cell_type": "code",
   "execution_count": 216,
   "metadata": {},
   "outputs": [
    {
     "name": "stdout",
     "output_type": "stream",
     "text": [
      "Before optimization copy of dataset (df2)\n",
      "df2.dtypes: \n",
      "Date     datetime64[ns]\n",
      "Time             object\n",
      "State            object\n",
      "Group            object\n",
      "Unit              int64\n",
      "Sales             int64\n",
      "dtype: object\n",
      "\n",
      "memory_usage: \n",
      "Index     60520\n",
      "Date      60520\n",
      "Time     489131\n",
      "State    450662\n",
      "Group    467044\n",
      "Unit      60520\n",
      "Sales     60520\n",
      "dtype: int64\n",
      "\n",
      "After optimization\n",
      "df2.dtypes: \n",
      "Date     datetime64[ns]\n",
      "Time             object\n",
      "State            object\n",
      "Group            object\n",
      "Unit               int8\n",
      "Sales             int32\n",
      "dtype: object\n",
      "\n",
      "memory_usage: \n",
      "Index     60520\n",
      "Date      60520\n",
      "Time     489131\n",
      "State    450662\n",
      "Group    467044\n",
      "Unit       7565\n",
      "Sales     30260\n",
      "dtype: int64\n",
      "\n"
     ]
    },
    {
     "data": {
      "text/plain": [
       "Index(['Time', 'State', 'Group'], dtype='object')"
      ]
     },
     "execution_count": 216,
     "metadata": {},
     "output_type": "execute_result"
    }
   ],
   "source": [
    "print(f\"Before optimization copy of dataset (df2)\")\n",
    "print(f\"df2.dtypes: \\n{df2.dtypes}\\n\")\n",
    "print(f\"memory_usage: \\n{df2.memory_usage(deep=True)}\\n\")\n",
    "\n",
    "# Optimize df2 too \n",
    "df2[\"Unit\"] = df2[\"Unit\"].astype(\"int8\")\n",
    "df2[\"Sales\"] = df2[\"Sales\"].astype(\"int32\")\n",
    "\n",
    "print(f\"After optimization\")\n",
    "print(f\"df2.dtypes: \\n{df2.dtypes}\\n\")\n",
    "print(f\"memory_usage: \\n{df2.memory_usage(deep=True)}\\n\")\n",
    "\n",
    "df2.select_dtypes(np.object_).columns"
   ]
  },
  {
   "cell_type": "code",
   "execution_count": 217,
   "metadata": {},
   "outputs": [
    {
     "name": "stdout",
     "output_type": "stream",
     "text": [
      "Using numPy isnull(), it only detects None and NaN \n",
      "So running 'np.where(pd.isnull(df2)' returns: (array([7561, 7562, 7563, 7563, 7564]), array([3, 1, 1, 3, 3]))\n",
      "Indicating that in row 7561 column Group there is a None value, in row 7562 column Time there is a NaN value  \n",
      "and in row 7563 Time col is None, Group col is NaN \n",
      "\n",
      "Same as isna(), it only detects None and NaN\n",
      " So running, 'df2[df2.isna().any(axis=1)])': \n",
      "           Date      Time  State  Group  Unit  Sales\n",
      "7561 2020-12-30   Evening    TAS   None    12  43500\n",
      "7562 2020-12-31       NaN    TAS  Kids     12  33500\n",
      "7563 2020-12-31      None  WA       NaN     4  53500\n",
      "7564 2020-12-31   Morning  WA       NaN     4  53500 \n",
      "\n",
      "In conclusion, we need to check for '' (empty) values as well df2[df2.apply(lambda x: x == '').any(axis=1)]\n",
      "\n",
      "           Date       Time State    Group  Unit  Sales\n",
      "7560 2020-12-29  Afternoon        Seniors    12  30500 \n",
      "\n",
      "And we combine checking for NaN and '' empty values to \n"
     ]
    },
    {
     "data": {
      "text/html": [
       "<div>\n",
       "<style scoped>\n",
       "    .dataframe tbody tr th:only-of-type {\n",
       "        vertical-align: middle;\n",
       "    }\n",
       "\n",
       "    .dataframe tbody tr th {\n",
       "        vertical-align: top;\n",
       "    }\n",
       "\n",
       "    .dataframe thead th {\n",
       "        text-align: right;\n",
       "    }\n",
       "</style>\n",
       "<table border=\"1\" class=\"dataframe\">\n",
       "  <thead>\n",
       "    <tr style=\"text-align: right;\">\n",
       "      <th></th>\n",
       "      <th>Date</th>\n",
       "      <th>Time</th>\n",
       "      <th>State</th>\n",
       "      <th>Group</th>\n",
       "      <th>Unit</th>\n",
       "      <th>Sales</th>\n",
       "    </tr>\n",
       "  </thead>\n",
       "  <tbody>\n",
       "    <tr>\n",
       "      <th>7560</th>\n",
       "      <td>2020-12-29</td>\n",
       "      <td>Afternoon</td>\n",
       "      <td></td>\n",
       "      <td>Seniors</td>\n",
       "      <td>12</td>\n",
       "      <td>30500</td>\n",
       "    </tr>\n",
       "    <tr>\n",
       "      <th>7561</th>\n",
       "      <td>2020-12-30</td>\n",
       "      <td>Evening</td>\n",
       "      <td>TAS</td>\n",
       "      <td>None</td>\n",
       "      <td>12</td>\n",
       "      <td>43500</td>\n",
       "    </tr>\n",
       "    <tr>\n",
       "      <th>7562</th>\n",
       "      <td>2020-12-31</td>\n",
       "      <td>NaN</td>\n",
       "      <td>TAS</td>\n",
       "      <td>Kids</td>\n",
       "      <td>12</td>\n",
       "      <td>33500</td>\n",
       "    </tr>\n",
       "    <tr>\n",
       "      <th>7563</th>\n",
       "      <td>2020-12-31</td>\n",
       "      <td>None</td>\n",
       "      <td>WA</td>\n",
       "      <td>NaN</td>\n",
       "      <td>4</td>\n",
       "      <td>53500</td>\n",
       "    </tr>\n",
       "    <tr>\n",
       "      <th>7564</th>\n",
       "      <td>2020-12-31</td>\n",
       "      <td>Morning</td>\n",
       "      <td>WA</td>\n",
       "      <td>NaN</td>\n",
       "      <td>4</td>\n",
       "      <td>53500</td>\n",
       "    </tr>\n",
       "  </tbody>\n",
       "</table>\n",
       "</div>"
      ],
      "text/plain": [
       "           Date       Time  State    Group  Unit  Sales\n",
       "7560 2020-12-29  Afternoon         Seniors    12  30500\n",
       "7561 2020-12-30    Evening    TAS     None    12  43500\n",
       "7562 2020-12-31        NaN    TAS    Kids     12  33500\n",
       "7563 2020-12-31       None  WA         NaN     4  53500\n",
       "7564 2020-12-31    Morning  WA         NaN     4  53500"
      ]
     },
     "execution_count": 217,
     "metadata": {},
     "output_type": "execute_result"
    }
   ],
   "source": [
    "# Checking for null with numpy\n",
    "print(\n",
    "    f\"Using numPy isnull(), it only detects None and NaN \\nSo running 'np.where(pd.isnull(df2)' returns: {np.where(pd.isnull(df2))}\"\n",
    ")\n",
    "print(\n",
    "    \"Indicating that in row 7561 column Group there is a None value, in row 7562 column Time there is a NaN value  \\n\" \n",
    "    \"and in row 7563 Time col is None, Group col is NaN \\n\"\n",
    ")\n",
    "\n",
    "print(\n",
    "    f\"Same as isna(), it only detects None and NaN\\n So running, 'df2[df2.isna().any(axis=1)])': \\n{df2[df2.isna().any(axis=1)]} \\n\"\n",
    ")\n",
    "\n",
    "print(\n",
    "    f\"In conclusion, we need to check for '' (empty) values as well df2[df2.apply(lambda x: x == '').any(axis=1)]\\n\"\n",
    ")\n",
    "print(f\"{df2[df2.apply(lambda x: x == '').any(axis=1)]} \\n\")\n",
    "# print(f\"{df2[df2.any(axis=1) == '']} \\n\")\n",
    "print(f\"And we combine checking for NaN and '' empty values to \")\n",
    "\n",
    "# Using isna()\n",
    "# df2[df2.isna().any(axis=1) | df2.map(lambda x: x == '').any(axis=1)]\n",
    "\n",
    "# Using isnull\n",
    "df2[df2.isnull().any(axis=1) | (df2 == \"\").any(axis=1)]"
   ]
  },
  {
   "cell_type": "code",
   "execution_count": 209,
   "metadata": {},
   "outputs": [
    {
     "name": "stdout",
     "output_type": "stream",
     "text": [
      "Columns with empty string or NaN values\n"
     ]
    },
    {
     "data": {
      "text/plain": [
       "Index(['Time', 'State', 'Group'], dtype='object')"
      ]
     },
     "execution_count": 209,
     "metadata": {},
     "output_type": "execute_result"
    }
   ],
   "source": [
    "# To check for the columns\n",
    "# cols_with_empty = df2.apply(lambda col: col.apply(lambda x: x.strip() == '' if isinstance(x, str) else False).any())\n",
    "# print(cols_with_empty[cols_with_empty].index.tolist())\n",
    "print(\"Columns with empty string or NaN values\")\n",
    "df2.columns[df2.isnull().any() | (df2 == \"\").any()]"
   ]
  },
  {
   "cell_type": "markdown",
   "metadata": {},
   "source": [
    "#### Observations\n",
    "\n",
    "Using numpy we can see:\n",
    "\n",
    "- `np.where(pd.isnull(df))` returns the row and column indices where the value is NaN. We get empty arrays as a result\n",
    "- `np.where(df.map(lambda x: x == ''))` also returns empty arrays. \n",
    "\n",
    "Note that using `map` requires calling a Python function once for each cell of the DataFrame. That could be slow for a large DataFrame, so it would be better \n",
    "to arrange for all the blank cells to contain NaN instead, and then use `pd.isnull()`\n"
   ]
  },
  {
   "cell_type": "markdown",
   "metadata": {},
   "source": [
    "b. Based on your knowledge of Data Analytics, include your recommendations for treating missing and incorrect data (dropping the null values or filling them)."
   ]
  },
  {
   "cell_type": "markdown",
   "metadata": {},
   "source": [
    "#### Recomendations\n",
    "\n",
    "There are a couple things we could do. \n",
    "- Per above comment, for all the blank cells I will fill with NaN "
   ]
  },
  {
   "cell_type": "code",
   "execution_count": 210,
   "metadata": {},
   "outputs": [
    {
     "data": {
      "text/html": [
       "<div>\n",
       "<style scoped>\n",
       "    .dataframe tbody tr th:only-of-type {\n",
       "        vertical-align: middle;\n",
       "    }\n",
       "\n",
       "    .dataframe tbody tr th {\n",
       "        vertical-align: top;\n",
       "    }\n",
       "\n",
       "    .dataframe thead th {\n",
       "        text-align: right;\n",
       "    }\n",
       "</style>\n",
       "<table border=\"1\" class=\"dataframe\">\n",
       "  <thead>\n",
       "    <tr style=\"text-align: right;\">\n",
       "      <th></th>\n",
       "      <th>Date</th>\n",
       "      <th>Time</th>\n",
       "      <th>State</th>\n",
       "      <th>Group</th>\n",
       "      <th>Unit</th>\n",
       "      <th>Sales</th>\n",
       "    </tr>\n",
       "  </thead>\n",
       "  <tbody>\n",
       "  </tbody>\n",
       "</table>\n",
       "</div>"
      ],
      "text/plain": [
       "Empty DataFrame\n",
       "Columns: [Date, Time, State, Group, Unit, Sales]\n",
       "Index: []"
      ]
     },
     "execution_count": 210,
     "metadata": {},
     "output_type": "execute_result"
    }
   ],
   "source": [
    "# Replace with NaN and then find those rows.\n",
    "df = df.replace(\"\", np.nan)\n",
    "nan_values = df[df.isna().any(axis=1)]\n",
    "nan_values\n",
    "\n",
    "nan_rows = df.loc[df.isna().any(axis=1)]\n",
    "nan_rows"
   ]
  },
  {
   "cell_type": "code",
   "execution_count": 211,
   "metadata": {},
   "outputs": [
    {
     "data": {
      "text/html": [
       "<div>\n",
       "<style scoped>\n",
       "    .dataframe tbody tr th:only-of-type {\n",
       "        vertical-align: middle;\n",
       "    }\n",
       "\n",
       "    .dataframe tbody tr th {\n",
       "        vertical-align: top;\n",
       "    }\n",
       "\n",
       "    .dataframe thead th {\n",
       "        text-align: right;\n",
       "    }\n",
       "</style>\n",
       "<table border=\"1\" class=\"dataframe\">\n",
       "  <thead>\n",
       "    <tr style=\"text-align: right;\">\n",
       "      <th></th>\n",
       "      <th>Date</th>\n",
       "      <th>Time</th>\n",
       "      <th>State</th>\n",
       "      <th>Group</th>\n",
       "      <th>Unit</th>\n",
       "      <th>Sales</th>\n",
       "    </tr>\n",
       "  </thead>\n",
       "  <tbody>\n",
       "    <tr>\n",
       "      <th>7561</th>\n",
       "      <td>2020-12-30</td>\n",
       "      <td>Evening</td>\n",
       "      <td>TAS</td>\n",
       "      <td>None</td>\n",
       "      <td>12</td>\n",
       "      <td>43500</td>\n",
       "    </tr>\n",
       "    <tr>\n",
       "      <th>7562</th>\n",
       "      <td>2020-12-31</td>\n",
       "      <td>NaN</td>\n",
       "      <td>TAS</td>\n",
       "      <td>Kids</td>\n",
       "      <td>12</td>\n",
       "      <td>33500</td>\n",
       "    </tr>\n",
       "    <tr>\n",
       "      <th>7563</th>\n",
       "      <td>2020-12-31</td>\n",
       "      <td>None</td>\n",
       "      <td>WA</td>\n",
       "      <td>NaN</td>\n",
       "      <td>4</td>\n",
       "      <td>53500</td>\n",
       "    </tr>\n",
       "  </tbody>\n",
       "</table>\n",
       "</div>"
      ],
      "text/plain": [
       "           Date      Time  State  Group  Unit  Sales\n",
       "7561 2020-12-30   Evening    TAS   None    12  43500\n",
       "7562 2020-12-31       NaN    TAS  Kids     12  33500\n",
       "7563 2020-12-31      None  WA       NaN     4  53500"
      ]
     },
     "execution_count": 211,
     "metadata": {},
     "output_type": "execute_result"
    }
   ],
   "source": [
    "# I will use df2 to make my recommendation in the case of missing/incorrect data\n",
    "\n",
    "# 1. First replace '' with NaN\n",
    "\n",
    "# df2.replace('None', np.nan, inplace=True) and find them\n",
    "# df2 = df2.replace(\" \", np.nan)\n",
    "\n",
    "# Find Options\n",
    "# a. Using `df.loc``\n",
    "# nan_rows  = df2.loc[df2.isna().any(axis=1)]\n",
    "\n",
    "# b. finding all `isnull()` rows first\n",
    "# null_mask = df2.isnull().any(axis=1)\n",
    "# null_rows = df2[null_mask]\n",
    "# null_rows\n",
    "\n",
    "# c. or directly finding all `isna()`` rows\n",
    "nan_rows = df2[df2.isna().any(axis=1)]\n",
    "nan_rows"
   ]
  },
  {
   "cell_type": "code",
   "execution_count": 212,
   "metadata": {},
   "outputs": [
    {
     "data": {
      "text/html": [
       "<div>\n",
       "<style scoped>\n",
       "    .dataframe tbody tr th:only-of-type {\n",
       "        vertical-align: middle;\n",
       "    }\n",
       "\n",
       "    .dataframe tbody tr th {\n",
       "        vertical-align: top;\n",
       "    }\n",
       "\n",
       "    .dataframe thead th {\n",
       "        text-align: right;\n",
       "    }\n",
       "</style>\n",
       "<table border=\"1\" class=\"dataframe\">\n",
       "  <thead>\n",
       "    <tr style=\"text-align: right;\">\n",
       "      <th></th>\n",
       "      <th>Time</th>\n",
       "      <th>State</th>\n",
       "      <th>Group</th>\n",
       "    </tr>\n",
       "  </thead>\n",
       "  <tbody>\n",
       "    <tr>\n",
       "      <th>count</th>\n",
       "      <td>7562</td>\n",
       "      <td>7564</td>\n",
       "      <td>7562</td>\n",
       "    </tr>\n",
       "    <tr>\n",
       "      <th>unique</th>\n",
       "      <td>4</td>\n",
       "      <td>10</td>\n",
       "      <td>5</td>\n",
       "    </tr>\n",
       "    <tr>\n",
       "      <th>top</th>\n",
       "      <td>Afternoon</td>\n",
       "      <td>TAS</td>\n",
       "      <td>Seniors</td>\n",
       "    </tr>\n",
       "    <tr>\n",
       "      <th>freq</th>\n",
       "      <td>2521</td>\n",
       "      <td>1081</td>\n",
       "      <td>1891</td>\n",
       "    </tr>\n",
       "  </tbody>\n",
       "</table>\n",
       "</div>"
      ],
      "text/plain": [
       "             Time State    Group\n",
       "count        7562  7564     7562\n",
       "unique          4    10        5\n",
       "top     Afternoon   TAS  Seniors\n",
       "freq         2521  1081     1891"
      ]
     },
     "execution_count": 212,
     "metadata": {},
     "output_type": "execute_result"
    }
   ],
   "source": [
    "# 2. Then, make sure that each value is unique, so we can groupby later.\n",
    "categorical_cols = [\"Time\", \"State\", \"Group\"]\n",
    "categorical_df = df2[categorical_cols]\n",
    "\n",
    "# a. describe() will give you the unique info\n",
    "categorical_df.describe()"
   ]
  },
  {
   "cell_type": "code",
   "execution_count": 219,
   "metadata": {},
   "outputs": [
    {
     "name": "stdout",
     "output_type": "stream",
     "text": [
      "Time values ['Morning' 'Afternoon' 'Evening' ' Evening' nan None] - 4\n",
      "Group values ['Kids' 'Men' 'Women' 'Seniors' None 'Kids ' nan] - 5\n",
      "State values ['WA' 'NT' 'SA' 'VIC' 'QLD' 'NSW' 'TAS' '' ' TAS' 'WA   '] - 10\n"
     ]
    }
   ],
   "source": [
    "# b. Or inspecting with `nunique()` and `unique()`\n",
    "if df2.Time.nunique() != len(df2.Time.unique()):\n",
    "    print(f\"Time values {df2.Time.unique()} - {df2.Time.nunique(dropna=True)}\")\n",
    "\n",
    "if df2.State.nunique() != len(df2.State.unique()):\n",
    "    print(f\"State values {df2.State.unique()} - {df2.State.nunique(dropna=True)}\")\n",
    "\n",
    "if df2.Group.nunique() != len(df2.Group.unique()):\n",
    "    print(f\"Group values {df2.Group.unique()} - {df2.Group.nunique(dropna=True)}\")\n",
    "\n",
    "\n",
    "df2.Time.nunique()\n",
    "len(df2.Time.unique())\n",
    "\n",
    "print(f\"State values {df2.State.unique()} - {df2.State.nunique()}\")"
   ]
  },
  {
   "cell_type": "markdown",
   "metadata": {},
   "source": [
    "#### Observations\n",
    "We can see that some categorical values has spaces:\n",
    "- For Time, ' Evening' and 'Evening'  \n",
    "- For State, 'TAS   ' isn't the same as 'TAS'. Same for 'WA'vs 'WA   '\n",
    "- For Group, ' Kids'and 'Kids'. ' Seniors' vs 'Seniors'\n",
    "- Notice that `nunique()` drops NaN and None, but not \"\" \n",
    "\n",
    "Therefore they are not unique values.\n"
   ]
  },
  {
   "cell_type": "code",
   "execution_count": 220,
   "metadata": {},
   "outputs": [
    {
     "name": "stdout",
     "output_type": "stream",
     "text": [
      "Time counts: \n",
      " Time\n",
      "Morning      2521\n",
      "Afternoon    2521\n",
      "Evening      2520\n",
      " Evening        1\n",
      "Name: count, dtype: int64 \n",
      "\n",
      "State counts: \n",
      " State\n",
      "TAS      1081\n",
      "WA       1080\n",
      "NT       1080\n",
      "SA       1080\n",
      "VIC      1080\n",
      "QLD      1080\n",
      "NSW      1080\n",
      "WA          2\n",
      "            1\n",
      " TAS        1\n",
      "Name: count, dtype: int64 \n",
      "\n",
      "Group counts: \n",
      " Group\n",
      "Seniors    1891\n",
      "Kids       1890\n",
      "Men        1890\n",
      "Women      1890\n",
      "Kids          1\n",
      "Name: count, dtype: int64 \n",
      "\n"
     ]
    }
   ],
   "source": [
    "# c. with value_counts() we can also see that something isn't quite right. (What are the possible values that belogn to this category)\n",
    "for colName in list(categorical_df):\n",
    "    print(f\"{colName} counts: \\n {df2[colName].value_counts()} \\n\")"
   ]
  },
  {
   "cell_type": "code",
   "execution_count": 222,
   "metadata": {},
   "outputs": [
    {
     "name": "stdout",
     "output_type": "stream",
     "text": [
      "7560    Afternoon\n",
      "7561      Evening\n",
      "7562          NaN\n",
      "7563         None\n",
      "7564      Morning\n",
      "Name: Time, dtype: object\n",
      "7560         \n",
      "7561      TAS\n",
      "7562      TAS\n",
      "7563    WA   \n",
      "7564    WA   \n",
      "Name: State, dtype: object\n",
      "7560    Seniors\n",
      "7561       None\n",
      "7562      Kids \n",
      "7563        NaN\n",
      "7564        NaN\n",
      "Name: Group, dtype: object\n"
     ]
    }
   ],
   "source": [
    "# Checking the rows added manually with NAN \n",
    "times = df2.loc[7560: 7565]['Time']\n",
    "states = df2.loc[7560: 7565]['State']\n",
    "group = df2.loc[7560: 7565]['Group']\n",
    "\n",
    "print(times)\n",
    "print(states)\n",
    "print(group)"
   ]
  },
  {
   "cell_type": "code",
   "execution_count": 223,
   "metadata": {},
   "outputs": [
    {
     "name": "stdout",
     "output_type": "stream",
     "text": [
      "\n",
      "Describe df2 before removing spaces\n"
     ]
    },
    {
     "data": {
      "text/html": [
       "<div>\n",
       "<style scoped>\n",
       "    .dataframe tbody tr th:only-of-type {\n",
       "        vertical-align: middle;\n",
       "    }\n",
       "\n",
       "    .dataframe tbody tr th {\n",
       "        vertical-align: top;\n",
       "    }\n",
       "\n",
       "    .dataframe thead th {\n",
       "        text-align: right;\n",
       "    }\n",
       "</style>\n",
       "<table border=\"1\" class=\"dataframe\">\n",
       "  <thead>\n",
       "    <tr style=\"text-align: right;\">\n",
       "      <th></th>\n",
       "      <th>Time</th>\n",
       "      <th>State</th>\n",
       "      <th>Group</th>\n",
       "    </tr>\n",
       "  </thead>\n",
       "  <tbody>\n",
       "    <tr>\n",
       "      <th>count</th>\n",
       "      <td>7563</td>\n",
       "      <td>7565</td>\n",
       "      <td>7562</td>\n",
       "    </tr>\n",
       "    <tr>\n",
       "      <th>unique</th>\n",
       "      <td>4</td>\n",
       "      <td>10</td>\n",
       "      <td>5</td>\n",
       "    </tr>\n",
       "    <tr>\n",
       "      <th>top</th>\n",
       "      <td>Morning</td>\n",
       "      <td>TAS</td>\n",
       "      <td>Seniors</td>\n",
       "    </tr>\n",
       "    <tr>\n",
       "      <th>freq</th>\n",
       "      <td>2521</td>\n",
       "      <td>1081</td>\n",
       "      <td>1891</td>\n",
       "    </tr>\n",
       "  </tbody>\n",
       "</table>\n",
       "</div>"
      ],
      "text/plain": [
       "           Time State    Group\n",
       "count      7563  7565     7562\n",
       "unique        4    10        5\n",
       "top     Morning   TAS  Seniors\n",
       "freq       2521  1081     1891"
      ]
     },
     "execution_count": 223,
     "metadata": {},
     "output_type": "execute_result"
    }
   ],
   "source": [
    "# 3. Remove spaces to then groupby unique values\n",
    "# ====================\n",
    "# Not sure why this isn't working\n",
    "# for colName in list(df2_categorical):\n",
    "#     df[colName] = df[colName].apply(lambda x: x.strip())\n",
    "#     print(f\"{colName} values: {df2[colName].unique()} - {df2[colName].nunique()}\")\n",
    "print(\"\\nDescribe df2 before removing spaces\")\n",
    "df2[categorical_cols].describe() "
   ]
  },
  {
   "cell_type": "code",
   "execution_count": 224,
   "metadata": {},
   "outputs": [
    {
     "name": "stdout",
     "output_type": "stream",
     "text": [
      "Time values ['Morning' 'Afternoon' 'Evening' nan None] - 3\n",
      "State values ['WA' 'NT' 'SA' 'VIC' 'QLD' 'NSW' 'TAS' ''] - 8\n",
      "Group values ['Kids' 'Men' 'Women' 'Seniors' None nan] - 4\n",
      "\n",
      "Describe df2 after removing spaces\n"
     ]
    },
    {
     "data": {
      "text/html": [
       "<div>\n",
       "<style scoped>\n",
       "    .dataframe tbody tr th:only-of-type {\n",
       "        vertical-align: middle;\n",
       "    }\n",
       "\n",
       "    .dataframe tbody tr th {\n",
       "        vertical-align: top;\n",
       "    }\n",
       "\n",
       "    .dataframe thead th {\n",
       "        text-align: right;\n",
       "    }\n",
       "</style>\n",
       "<table border=\"1\" class=\"dataframe\">\n",
       "  <thead>\n",
       "    <tr style=\"text-align: right;\">\n",
       "      <th></th>\n",
       "      <th>Time</th>\n",
       "      <th>State</th>\n",
       "      <th>Group</th>\n",
       "    </tr>\n",
       "  </thead>\n",
       "  <tbody>\n",
       "    <tr>\n",
       "      <th>count</th>\n",
       "      <td>7563</td>\n",
       "      <td>7565</td>\n",
       "      <td>7562</td>\n",
       "    </tr>\n",
       "    <tr>\n",
       "      <th>unique</th>\n",
       "      <td>3</td>\n",
       "      <td>8</td>\n",
       "      <td>4</td>\n",
       "    </tr>\n",
       "    <tr>\n",
       "      <th>top</th>\n",
       "      <td>Morning</td>\n",
       "      <td>WA</td>\n",
       "      <td>Kids</td>\n",
       "    </tr>\n",
       "    <tr>\n",
       "      <th>freq</th>\n",
       "      <td>2521</td>\n",
       "      <td>1082</td>\n",
       "      <td>1891</td>\n",
       "    </tr>\n",
       "  </tbody>\n",
       "</table>\n",
       "</div>"
      ],
      "text/plain": [
       "           Time State Group\n",
       "count      7563  7565  7562\n",
       "unique        3     8     4\n",
       "top     Morning    WA  Kids\n",
       "freq       2521  1082  1891"
      ]
     },
     "execution_count": 224,
     "metadata": {},
     "output_type": "execute_result"
    }
   ],
   "source": [
    "# Removing spaces by using strip()\n",
    "\n",
    "df2[\"Time\"] = df2[\"Time\"].str.strip()\n",
    "df2[\"State\"] = df2[\"State\"].str.strip()\n",
    "df2[\"Group\"] = df2[\"Group\"].str.strip()\n",
    "\n",
    "print(f\"Time values {df2.Time.unique()} - {df2.Time.nunique()}\")\n",
    "print(f\"State values {df2.State.unique()} - {df2.State.nunique()}\")\n",
    "print(f\"Group values {df2.Group.unique()} - {df2.Group.nunique()}\")\n",
    "print(\"\\nDescribe df2 after removing spaces\")\n",
    "df2[categorical_cols].describe() "
   ]
  },
  {
   "cell_type": "code",
   "execution_count": 225,
   "metadata": {},
   "outputs": [
    {
     "name": "stdout",
     "output_type": "stream",
     "text": [
      "\n",
      "Describe df after removing spaces\n"
     ]
    },
    {
     "data": {
      "text/html": [
       "<div>\n",
       "<style scoped>\n",
       "    .dataframe tbody tr th:only-of-type {\n",
       "        vertical-align: middle;\n",
       "    }\n",
       "\n",
       "    .dataframe tbody tr th {\n",
       "        vertical-align: top;\n",
       "    }\n",
       "\n",
       "    .dataframe thead th {\n",
       "        text-align: right;\n",
       "    }\n",
       "</style>\n",
       "<table border=\"1\" class=\"dataframe\">\n",
       "  <thead>\n",
       "    <tr style=\"text-align: right;\">\n",
       "      <th></th>\n",
       "      <th>Time</th>\n",
       "      <th>State</th>\n",
       "      <th>Group</th>\n",
       "    </tr>\n",
       "  </thead>\n",
       "  <tbody>\n",
       "    <tr>\n",
       "      <th>count</th>\n",
       "      <td>7560</td>\n",
       "      <td>7560</td>\n",
       "      <td>7560</td>\n",
       "    </tr>\n",
       "    <tr>\n",
       "      <th>unique</th>\n",
       "      <td>3</td>\n",
       "      <td>7</td>\n",
       "      <td>4</td>\n",
       "    </tr>\n",
       "    <tr>\n",
       "      <th>top</th>\n",
       "      <td>Morning</td>\n",
       "      <td>WA</td>\n",
       "      <td>Kids</td>\n",
       "    </tr>\n",
       "    <tr>\n",
       "      <th>freq</th>\n",
       "      <td>2520</td>\n",
       "      <td>1080</td>\n",
       "      <td>1890</td>\n",
       "    </tr>\n",
       "  </tbody>\n",
       "</table>\n",
       "</div>"
      ],
      "text/plain": [
       "           Time State Group\n",
       "count      7560  7560  7560\n",
       "unique        3     7     4\n",
       "top     Morning    WA  Kids\n",
       "freq       2520  1080  1890"
      ]
     },
     "execution_count": 225,
     "metadata": {},
     "output_type": "execute_result"
    }
   ],
   "source": [
    "# Apply the same to the original df\n",
    "df[\"Time\"] = df[\"Time\"].str.strip()\n",
    "df[\"State\"] = df[\"State\"].str.strip()\n",
    "df[\"Group\"] = df[\"Group\"].str.strip()\n",
    "print(\"\\nDescribe df after removing spaces\")\n",
    "df[categorical_cols].describe() "
   ]
  },
  {
   "cell_type": "code",
   "execution_count": 226,
   "metadata": {},
   "outputs": [],
   "source": [
    "# 4. In this case I decided to dropna() but you could also fillin with mode() sample because we only have 3 rows (added) with NaN\n",
    "\n",
    "# time_value =list(df2['Time'].mode().sample())[0]\n",
    "# df2.fillna({'Time': time_value }, inplace=True)\n",
    "\n",
    "# group_value =list(df2['Group'].mode().sample())[0]\n",
    "# df2.fillna({'Group': group_value }, inplace=True)\n",
    "\n",
    "# state_value =list(df2['State'].mode().sample())[0]\n",
    "# df2.fillna({'State': group_value }, inplace=True)\n",
    "# df2 = df2.dropna()\n",
    "df2 = df2.dropna()\n",
    "df = df.dropna()\n",
    "# print(len(df2) == len(df))"
   ]
  },
  {
   "cell_type": "markdown",
   "metadata": {},
   "source": [
    "c. Choose a suitable Data Wrangling technique——either data standardization or normalization. Execute the preferred normalization method and present the resulting data. (Normalization is the preferred approach for this problem.)\n"
   ]
  },
  {
   "cell_type": "markdown",
   "metadata": {},
   "source": [
    "##### Data binning: Standardization\n",
    "\n",
    "The data is very consistent, so Standardization isn't neccessary. I will be doing it just for practicing. \n",
    "\n",
    "Moving on I will be focused with Normalization technique by using `groupby`"
   ]
  },
  {
   "cell_type": "code",
   "execution_count": 227,
   "metadata": {},
   "outputs": [
    {
     "data": {
      "text/html": [
       "<div>\n",
       "<style scoped>\n",
       "    .dataframe tbody tr th:only-of-type {\n",
       "        vertical-align: middle;\n",
       "    }\n",
       "\n",
       "    .dataframe tbody tr th {\n",
       "        vertical-align: top;\n",
       "    }\n",
       "\n",
       "    .dataframe thead th {\n",
       "        text-align: right;\n",
       "    }\n",
       "</style>\n",
       "<table border=\"1\" class=\"dataframe\">\n",
       "  <thead>\n",
       "    <tr style=\"text-align: right;\">\n",
       "      <th></th>\n",
       "      <th>Date</th>\n",
       "      <th>Time</th>\n",
       "      <th>State</th>\n",
       "      <th>Group</th>\n",
       "      <th>Unit</th>\n",
       "      <th>Sales</th>\n",
       "      <th>zcore-sales</th>\n",
       "      <th>outliers</th>\n",
       "    </tr>\n",
       "  </thead>\n",
       "  <tbody>\n",
       "    <tr>\n",
       "      <th>0</th>\n",
       "      <td>2020-10-01</td>\n",
       "      <td>Morning</td>\n",
       "      <td>WA</td>\n",
       "      <td>Kids</td>\n",
       "      <td>8</td>\n",
       "      <td>20000</td>\n",
       "      <td>-0.775581</td>\n",
       "      <td>False</td>\n",
       "    </tr>\n",
       "    <tr>\n",
       "      <th>1</th>\n",
       "      <td>2020-10-01</td>\n",
       "      <td>Morning</td>\n",
       "      <td>WA</td>\n",
       "      <td>Men</td>\n",
       "      <td>8</td>\n",
       "      <td>20000</td>\n",
       "      <td>-0.775581</td>\n",
       "      <td>False</td>\n",
       "    </tr>\n",
       "    <tr>\n",
       "      <th>2</th>\n",
       "      <td>2020-10-01</td>\n",
       "      <td>Morning</td>\n",
       "      <td>WA</td>\n",
       "      <td>Women</td>\n",
       "      <td>4</td>\n",
       "      <td>10000</td>\n",
       "      <td>-1.085645</td>\n",
       "      <td>False</td>\n",
       "    </tr>\n",
       "    <tr>\n",
       "      <th>3</th>\n",
       "      <td>2020-10-01</td>\n",
       "      <td>Morning</td>\n",
       "      <td>WA</td>\n",
       "      <td>Seniors</td>\n",
       "      <td>15</td>\n",
       "      <td>37500</td>\n",
       "      <td>-0.232969</td>\n",
       "      <td>False</td>\n",
       "    </tr>\n",
       "    <tr>\n",
       "      <th>4</th>\n",
       "      <td>2020-10-01</td>\n",
       "      <td>Afternoon</td>\n",
       "      <td>WA</td>\n",
       "      <td>Kids</td>\n",
       "      <td>3</td>\n",
       "      <td>7500</td>\n",
       "      <td>-1.163162</td>\n",
       "      <td>False</td>\n",
       "    </tr>\n",
       "  </tbody>\n",
       "</table>\n",
       "</div>"
      ],
      "text/plain": [
       "        Date       Time State    Group  Unit  Sales  zcore-sales  outliers\n",
       "0 2020-10-01    Morning    WA     Kids     8  20000    -0.775581     False\n",
       "1 2020-10-01    Morning    WA      Men     8  20000    -0.775581     False\n",
       "2 2020-10-01    Morning    WA    Women     4  10000    -1.085645     False\n",
       "3 2020-10-01    Morning    WA  Seniors    15  37500    -0.232969     False\n",
       "4 2020-10-01  Afternoon    WA     Kids     3   7500    -1.163162     False"
      ]
     },
     "execution_count": 227,
     "metadata": {},
     "output_type": "execute_result"
    }
   ],
   "source": [
    "# Data binning: Standardization\n",
    "from scipy.stats import zscore\n",
    "\n",
    "df['zcore-sales'] = zscore(df['Sales'])\n",
    "\n",
    "threshold = 2\n",
    "df['outliers'] = np.where((df['zcore-sales'] - threshold > 0), True, np.where(df['zcore-sales'] + threshold < 0, True, False))\n",
    "\n",
    "df.head()\n",
    "# df.tail()"
   ]
  },
  {
   "cell_type": "code",
   "execution_count": 228,
   "metadata": {},
   "outputs": [],
   "source": [
    "# Even though it doesn't make sense to find outliers with total sales, just to practice.\n",
    "df.drop((df[df['outliers']==True]).index, inplace=True)"
   ]
  },
  {
   "cell_type": "code",
   "execution_count": 229,
   "metadata": {},
   "outputs": [
    {
     "data": {
      "text/html": [
       "<div>\n",
       "<style scoped>\n",
       "    .dataframe tbody tr th:only-of-type {\n",
       "        vertical-align: middle;\n",
       "    }\n",
       "\n",
       "    .dataframe tbody tr th {\n",
       "        vertical-align: top;\n",
       "    }\n",
       "\n",
       "    .dataframe thead th {\n",
       "        text-align: right;\n",
       "    }\n",
       "</style>\n",
       "<table border=\"1\" class=\"dataframe\">\n",
       "  <thead>\n",
       "    <tr style=\"text-align: right;\">\n",
       "      <th></th>\n",
       "      <th>Date</th>\n",
       "      <th>Time</th>\n",
       "      <th>State</th>\n",
       "      <th>Group</th>\n",
       "      <th>Unit</th>\n",
       "      <th>Sales</th>\n",
       "    </tr>\n",
       "  </thead>\n",
       "  <tbody>\n",
       "    <tr>\n",
       "      <th>0</th>\n",
       "      <td>2020-10-01</td>\n",
       "      <td>Morning</td>\n",
       "      <td>WA</td>\n",
       "      <td>Kids</td>\n",
       "      <td>8</td>\n",
       "      <td>20000</td>\n",
       "    </tr>\n",
       "  </tbody>\n",
       "</table>\n",
       "</div>"
      ],
      "text/plain": [
       "        Date     Time State Group  Unit  Sales\n",
       "0 2020-10-01  Morning    WA  Kids     8  20000"
      ]
     },
     "execution_count": 229,
     "metadata": {},
     "output_type": "execute_result"
    }
   ],
   "source": [
    "if 'zcore-sales'in list(df.columns) or 'outliers'in list(df.columns):\n",
    "    df = df.drop(columns=['zcore-sales', 'outliers'])\n",
    "df.head(n=1)"
   ]
  },
  {
   "cell_type": "markdown",
   "metadata": {},
   "source": [
    "#### Observations\n",
    "\n",
    "##### Data binnning: Normalization\n",
    "I will use groupby() since we only have one dataset to split my data into categories"
   ]
  },
  {
   "cell_type": "code",
   "execution_count": 230,
   "metadata": {},
   "outputs": [
    {
     "name": "stdout",
     "output_type": "stream",
     "text": [
      "Indexes: [None]\n"
     ]
    },
    {
     "data": {
      "text/html": [
       "<div>\n",
       "<style scoped>\n",
       "    .dataframe tbody tr th:only-of-type {\n",
       "        vertical-align: middle;\n",
       "    }\n",
       "\n",
       "    .dataframe tbody tr th {\n",
       "        vertical-align: top;\n",
       "    }\n",
       "\n",
       "    .dataframe thead th {\n",
       "        text-align: right;\n",
       "    }\n",
       "</style>\n",
       "<table border=\"1\" class=\"dataframe\">\n",
       "  <thead>\n",
       "    <tr style=\"text-align: right;\">\n",
       "      <th></th>\n",
       "      <th>Date</th>\n",
       "      <th>Time</th>\n",
       "      <th>State</th>\n",
       "      <th>Group</th>\n",
       "      <th>Unit</th>\n",
       "      <th>Sales</th>\n",
       "      <th>YearMonth</th>\n",
       "    </tr>\n",
       "  </thead>\n",
       "  <tbody>\n",
       "    <tr>\n",
       "      <th>0</th>\n",
       "      <td>2020-10-01</td>\n",
       "      <td>Morning</td>\n",
       "      <td>WA</td>\n",
       "      <td>Kids</td>\n",
       "      <td>8</td>\n",
       "      <td>20000</td>\n",
       "      <td>2020-10</td>\n",
       "    </tr>\n",
       "    <tr>\n",
       "      <th>1</th>\n",
       "      <td>2020-10-01</td>\n",
       "      <td>Morning</td>\n",
       "      <td>WA</td>\n",
       "      <td>Men</td>\n",
       "      <td>8</td>\n",
       "      <td>20000</td>\n",
       "      <td>2020-10</td>\n",
       "    </tr>\n",
       "    <tr>\n",
       "      <th>2</th>\n",
       "      <td>2020-10-01</td>\n",
       "      <td>Morning</td>\n",
       "      <td>WA</td>\n",
       "      <td>Women</td>\n",
       "      <td>4</td>\n",
       "      <td>10000</td>\n",
       "      <td>2020-10</td>\n",
       "    </tr>\n",
       "    <tr>\n",
       "      <th>3</th>\n",
       "      <td>2020-10-01</td>\n",
       "      <td>Morning</td>\n",
       "      <td>WA</td>\n",
       "      <td>Seniors</td>\n",
       "      <td>15</td>\n",
       "      <td>37500</td>\n",
       "      <td>2020-10</td>\n",
       "    </tr>\n",
       "    <tr>\n",
       "      <th>4</th>\n",
       "      <td>2020-10-01</td>\n",
       "      <td>Afternoon</td>\n",
       "      <td>WA</td>\n",
       "      <td>Kids</td>\n",
       "      <td>3</td>\n",
       "      <td>7500</td>\n",
       "      <td>2020-10</td>\n",
       "    </tr>\n",
       "  </tbody>\n",
       "</table>\n",
       "</div>"
      ],
      "text/plain": [
       "        Date       Time State    Group  Unit  Sales YearMonth\n",
       "0 2020-10-01    Morning    WA     Kids     8  20000   2020-10\n",
       "1 2020-10-01    Morning    WA      Men     8  20000   2020-10\n",
       "2 2020-10-01    Morning    WA    Women     4  10000   2020-10\n",
       "3 2020-10-01    Morning    WA  Seniors    15  37500   2020-10\n",
       "4 2020-10-01  Afternoon    WA     Kids     3   7500   2020-10"
      ]
     },
     "execution_count": 230,
     "metadata": {},
     "output_type": "execute_result"
    }
   ],
   "source": [
    "# Copy before adding period columns\n",
    "orig_df = df.copy()\n",
    "\n",
    "print(f\"Indexes: {df.index.names}\")\n",
    "if 'Date'in df.index.names:\n",
    "    df.reset_index(inplace=True)\n",
    "\n",
    "# Add column to group by month & year\n",
    "\n",
    "# Make sure the 'Date' column is in datetime format\n",
    "df['Date'] = pd.to_datetime(df['Date'])\n",
    "df['YearMonth'] = df['Date'].dt.to_period('M')\n",
    "df.head()"
   ]
  },
  {
   "cell_type": "code",
   "execution_count": 231,
   "metadata": {},
   "outputs": [
    {
     "name": "stdout",
     "output_type": "stream",
     "text": [
      "Group by Year & Month\n"
     ]
    },
    {
     "data": {
      "text/html": [
       "<div>\n",
       "<style scoped>\n",
       "    .dataframe tbody tr th:only-of-type {\n",
       "        vertical-align: middle;\n",
       "    }\n",
       "\n",
       "    .dataframe tbody tr th {\n",
       "        vertical-align: top;\n",
       "    }\n",
       "\n",
       "    .dataframe thead th {\n",
       "        text-align: right;\n",
       "    }\n",
       "</style>\n",
       "<table border=\"1\" class=\"dataframe\">\n",
       "  <thead>\n",
       "    <tr style=\"text-align: right;\">\n",
       "      <th></th>\n",
       "      <th>YearMonth</th>\n",
       "      <th>Sales</th>\n",
       "    </tr>\n",
       "  </thead>\n",
       "  <tbody>\n",
       "    <tr>\n",
       "      <th>0</th>\n",
       "      <td>2020-10</td>\n",
       "      <td>103917500</td>\n",
       "    </tr>\n",
       "    <tr>\n",
       "      <th>1</th>\n",
       "      <td>2020-11</td>\n",
       "      <td>87355000</td>\n",
       "    </tr>\n",
       "    <tr>\n",
       "      <th>2</th>\n",
       "      <td>2020-12</td>\n",
       "      <td>102837500</td>\n",
       "    </tr>\n",
       "  </tbody>\n",
       "</table>\n",
       "</div>"
      ],
      "text/plain": [
       "  YearMonth      Sales\n",
       "0   2020-10  103917500\n",
       "1   2020-11   87355000\n",
       "2   2020-12  102837500"
      ]
     },
     "execution_count": 231,
     "metadata": {},
     "output_type": "execute_result"
    }
   ],
   "source": [
    "# Group by YearMonth\n",
    "print(\"Group by Year & Month\")\n",
    "cat_month_year = df.groupby(['YearMonth'])\n",
    "cat_month_year.Sales.sum().reset_index()"
   ]
  },
  {
   "cell_type": "code",
   "execution_count": 232,
   "metadata": {},
   "outputs": [
    {
     "name": "stdout",
     "output_type": "stream",
     "text": [
      "Counts by Group:\n",
      "YearMonth  Group  \n",
      "2020-10    Women      610\n",
      "           Men        609\n",
      "           Kids       608\n",
      "           Seniors    605\n",
      "2020-11    Seniors    624\n",
      "           Men        623\n",
      "           Women      623\n",
      "           Kids       620\n",
      "2020-12    Men        570\n",
      "           Women      570\n",
      "           Kids       569\n",
      "           Seniors    569\n",
      "Name: count, dtype: int64\n"
     ]
    },
    {
     "data": {
      "text/html": [
       "<div>\n",
       "<style scoped>\n",
       "    .dataframe tbody tr th:only-of-type {\n",
       "        vertical-align: middle;\n",
       "    }\n",
       "\n",
       "    .dataframe tbody tr th {\n",
       "        vertical-align: top;\n",
       "    }\n",
       "\n",
       "    .dataframe thead th {\n",
       "        text-align: right;\n",
       "    }\n",
       "</style>\n",
       "<table border=\"1\" class=\"dataframe\">\n",
       "  <thead>\n",
       "    <tr style=\"text-align: right;\">\n",
       "      <th></th>\n",
       "      <th>count</th>\n",
       "      <th>unique</th>\n",
       "      <th>top</th>\n",
       "      <th>freq</th>\n",
       "    </tr>\n",
       "    <tr>\n",
       "      <th>YearMonth</th>\n",
       "      <th></th>\n",
       "      <th></th>\n",
       "      <th></th>\n",
       "      <th></th>\n",
       "    </tr>\n",
       "  </thead>\n",
       "  <tbody>\n",
       "    <tr>\n",
       "      <th>2020-10</th>\n",
       "      <td>2432</td>\n",
       "      <td>4</td>\n",
       "      <td>Women</td>\n",
       "      <td>610</td>\n",
       "    </tr>\n",
       "    <tr>\n",
       "      <th>2020-11</th>\n",
       "      <td>2490</td>\n",
       "      <td>4</td>\n",
       "      <td>Seniors</td>\n",
       "      <td>624</td>\n",
       "    </tr>\n",
       "    <tr>\n",
       "      <th>2020-12</th>\n",
       "      <td>2278</td>\n",
       "      <td>4</td>\n",
       "      <td>Men</td>\n",
       "      <td>570</td>\n",
       "    </tr>\n",
       "  </tbody>\n",
       "</table>\n",
       "</div>"
      ],
      "text/plain": [
       "          count unique      top freq\n",
       "YearMonth                           \n",
       "2020-10    2432      4    Women  610\n",
       "2020-11    2490      4  Seniors  624\n",
       "2020-12    2278      4      Men  570"
      ]
     },
     "execution_count": 232,
     "metadata": {},
     "output_type": "execute_result"
    }
   ],
   "source": [
    "print(f\"Counts by Group:\\n{cat_month_year['Group'].value_counts()}\")\n",
    "cat_month_year['Group'].describe()"
   ]
  },
  {
   "cell_type": "markdown",
   "metadata": {},
   "source": [
    "#### Observations\n",
    "- Grouping by Month & Year help to see that we only have three months: Oct, Nov & Dec.\n",
    "- Then we can describe data by Group or Time\n",
    "- We can observe that even thought sales were higher $ on Oct, 2020, seniour were higher in quantity on Nov 2020  "
   ]
  },
  {
   "cell_type": "code",
   "execution_count": 208,
   "metadata": {},
   "outputs": [
    {
     "name": "stdout",
     "output_type": "stream",
     "text": [
      "Counts by Time:\n",
      "YearMonth  Time     \n",
      "2020-10    Afternoon    819\n",
      "           Morning      808\n",
      "           Evening      805\n",
      "2020-11    Evening      833\n",
      "           Afternoon    829\n",
      "           Morning      828\n",
      "2020-12    Evening      769\n",
      "           Morning      756\n",
      "           Afternoon    753\n",
      "Name: count, dtype: int64\n"
     ]
    },
    {
     "data": {
      "text/html": [
       "<div>\n",
       "<style scoped>\n",
       "    .dataframe tbody tr th:only-of-type {\n",
       "        vertical-align: middle;\n",
       "    }\n",
       "\n",
       "    .dataframe tbody tr th {\n",
       "        vertical-align: top;\n",
       "    }\n",
       "\n",
       "    .dataframe thead th {\n",
       "        text-align: right;\n",
       "    }\n",
       "</style>\n",
       "<table border=\"1\" class=\"dataframe\">\n",
       "  <thead>\n",
       "    <tr style=\"text-align: right;\">\n",
       "      <th></th>\n",
       "      <th>count</th>\n",
       "      <th>unique</th>\n",
       "      <th>top</th>\n",
       "      <th>freq</th>\n",
       "    </tr>\n",
       "    <tr>\n",
       "      <th>YearMonth</th>\n",
       "      <th></th>\n",
       "      <th></th>\n",
       "      <th></th>\n",
       "      <th></th>\n",
       "    </tr>\n",
       "  </thead>\n",
       "  <tbody>\n",
       "    <tr>\n",
       "      <th>2020-10</th>\n",
       "      <td>2432</td>\n",
       "      <td>3</td>\n",
       "      <td>Afternoon</td>\n",
       "      <td>819</td>\n",
       "    </tr>\n",
       "    <tr>\n",
       "      <th>2020-11</th>\n",
       "      <td>2490</td>\n",
       "      <td>3</td>\n",
       "      <td>Evening</td>\n",
       "      <td>833</td>\n",
       "    </tr>\n",
       "    <tr>\n",
       "      <th>2020-12</th>\n",
       "      <td>2278</td>\n",
       "      <td>3</td>\n",
       "      <td>Evening</td>\n",
       "      <td>769</td>\n",
       "    </tr>\n",
       "  </tbody>\n",
       "</table>\n",
       "</div>"
      ],
      "text/plain": [
       "          count unique        top freq\n",
       "YearMonth                             \n",
       "2020-10    2432      3  Afternoon  819\n",
       "2020-11    2490      3    Evening  833\n",
       "2020-12    2278      3    Evening  769"
      ]
     },
     "execution_count": 208,
     "metadata": {},
     "output_type": "execute_result"
    }
   ],
   "source": [
    "print(f\"Counts by Time:\\n{cat_month_year['Time'].value_counts()}\")\n",
    "cat_month_year['Time'].describe()"
   ]
  },
  {
   "cell_type": "code",
   "execution_count": 209,
   "metadata": {},
   "outputs": [
    {
     "name": "stdout",
     "output_type": "stream",
     "text": [
      "Counts by State:\n",
      "YearMonth  State\n",
      "2020-10    NSW      360\n",
      "           NT       360\n",
      "           QLD      360\n",
      "           SA       360\n",
      "           TAS      360\n",
      "           WA       360\n",
      "           VIC      272\n",
      "2020-11    NSW      360\n",
      "           NT       360\n",
      "           QLD      360\n",
      "           SA       360\n",
      "           TAS      360\n",
      "           WA       360\n",
      "           VIC      330\n",
      "2020-12    NT       360\n",
      "           QLD      360\n",
      "           SA       360\n",
      "           TAS      360\n",
      "           WA       360\n",
      "           NSW      336\n",
      "           VIC      142\n",
      "Name: count, dtype: int64\n"
     ]
    },
    {
     "data": {
      "text/html": [
       "<div>\n",
       "<style scoped>\n",
       "    .dataframe tbody tr th:only-of-type {\n",
       "        vertical-align: middle;\n",
       "    }\n",
       "\n",
       "    .dataframe tbody tr th {\n",
       "        vertical-align: top;\n",
       "    }\n",
       "\n",
       "    .dataframe thead th {\n",
       "        text-align: right;\n",
       "    }\n",
       "</style>\n",
       "<table border=\"1\" class=\"dataframe\">\n",
       "  <thead>\n",
       "    <tr style=\"text-align: right;\">\n",
       "      <th></th>\n",
       "      <th>count</th>\n",
       "      <th>unique</th>\n",
       "      <th>top</th>\n",
       "      <th>freq</th>\n",
       "    </tr>\n",
       "    <tr>\n",
       "      <th>YearMonth</th>\n",
       "      <th></th>\n",
       "      <th></th>\n",
       "      <th></th>\n",
       "      <th></th>\n",
       "    </tr>\n",
       "  </thead>\n",
       "  <tbody>\n",
       "    <tr>\n",
       "      <th>2020-10</th>\n",
       "      <td>2432</td>\n",
       "      <td>7</td>\n",
       "      <td>WA</td>\n",
       "      <td>360</td>\n",
       "    </tr>\n",
       "    <tr>\n",
       "      <th>2020-11</th>\n",
       "      <td>2490</td>\n",
       "      <td>7</td>\n",
       "      <td>WA</td>\n",
       "      <td>360</td>\n",
       "    </tr>\n",
       "    <tr>\n",
       "      <th>2020-12</th>\n",
       "      <td>2278</td>\n",
       "      <td>7</td>\n",
       "      <td>WA</td>\n",
       "      <td>360</td>\n",
       "    </tr>\n",
       "  </tbody>\n",
       "</table>\n",
       "</div>"
      ],
      "text/plain": [
       "          count unique top freq\n",
       "YearMonth                      \n",
       "2020-10    2432      7  WA  360\n",
       "2020-11    2490      7  WA  360\n",
       "2020-12    2278      7  WA  360"
      ]
     },
     "execution_count": 209,
     "metadata": {},
     "output_type": "execute_result"
    }
   ],
   "source": [
    "print(f\"Counts by State:\\n{cat_month_year['State'].value_counts()}\")\n",
    "\n",
    "cat_month_year['State'].describe() "
   ]
  },
  {
   "cell_type": "code",
   "execution_count": 210,
   "metadata": {},
   "outputs": [
    {
     "name": "stdout",
     "output_type": "stream",
     "text": [
      "Time Categories : ['Afternoon', 'Evening', 'Morning']\n",
      "Group Categories : ['Kids', 'Men', 'Seniors', 'Women']\n",
      "State Categories : ['NSW', 'NT', 'QLD', 'SA', 'TAS', 'VIC', 'WA']\n"
     ]
    }
   ],
   "source": [
    "# Group by categoricals\n",
    "cat_time = df.groupby(\"Time\")\n",
    "cat_group = df.groupby(\"Group\")\n",
    "cat_state = df.groupby(\"State\")\n",
    "\n",
    "print(f\"Time Categories : {list(cat_time.groups.keys())}\")\n",
    "\n",
    "print(f\"Group Categories : {list(cat_group.groups.keys())}\")\n",
    "\n",
    "print(f\"State Categories : {list(cat_state.groups.keys())}\")\n"
   ]
  },
  {
   "cell_type": "code",
   "execution_count": 211,
   "metadata": {},
   "outputs": [
    {
     "name": "stdout",
     "output_type": "stream",
     "text": [
      "Time       Group  \n",
      "Afternoon  Kids       602\n",
      "           Men        601\n",
      "           Women      600\n",
      "           Seniors    598\n",
      "Evening    Seniors    606\n",
      "           Women      603\n",
      "           Men        600\n",
      "           Kids       598\n",
      "Morning    Men        601\n",
      "           Women      600\n",
      "           Kids       597\n",
      "           Seniors    594\n",
      "Name: count, dtype: int64\n"
     ]
    },
    {
     "data": {
      "text/html": [
       "<div>\n",
       "<style scoped>\n",
       "    .dataframe tbody tr th:only-of-type {\n",
       "        vertical-align: middle;\n",
       "    }\n",
       "\n",
       "    .dataframe tbody tr th {\n",
       "        vertical-align: top;\n",
       "    }\n",
       "\n",
       "    .dataframe thead th {\n",
       "        text-align: right;\n",
       "    }\n",
       "</style>\n",
       "<table border=\"1\" class=\"dataframe\">\n",
       "  <thead>\n",
       "    <tr style=\"text-align: right;\">\n",
       "      <th></th>\n",
       "      <th>Group</th>\n",
       "      <th>Sales</th>\n",
       "    </tr>\n",
       "  </thead>\n",
       "  <tbody>\n",
       "    <tr>\n",
       "      <th>0</th>\n",
       "      <td>Kids</td>\n",
       "      <td>73360000</td>\n",
       "    </tr>\n",
       "    <tr>\n",
       "      <th>1</th>\n",
       "      <td>Men</td>\n",
       "      <td>74420000</td>\n",
       "    </tr>\n",
       "    <tr>\n",
       "      <th>2</th>\n",
       "      <td>Seniors</td>\n",
       "      <td>72152500</td>\n",
       "    </tr>\n",
       "    <tr>\n",
       "      <th>3</th>\n",
       "      <td>Women</td>\n",
       "      <td>74177500</td>\n",
       "    </tr>\n",
       "  </tbody>\n",
       "</table>\n",
       "</div>"
      ],
      "text/plain": [
       "     Group     Sales\n",
       "0     Kids  73360000\n",
       "1      Men  74420000\n",
       "2  Seniors  72152500\n",
       "3    Women  74177500"
      ]
     },
     "execution_count": 211,
     "metadata": {},
     "output_type": "execute_result"
    }
   ],
   "source": [
    "print(f\"{cat_time['Group'].value_counts()}\")\n",
    "cat_group['Sales'].sum().reset_index()"
   ]
  },
  {
   "cell_type": "code",
   "execution_count": 212,
   "metadata": {},
   "outputs": [
    {
     "data": {
      "text/html": [
       "<div>\n",
       "<style scoped>\n",
       "    .dataframe tbody tr th:only-of-type {\n",
       "        vertical-align: middle;\n",
       "    }\n",
       "\n",
       "    .dataframe tbody tr th {\n",
       "        vertical-align: top;\n",
       "    }\n",
       "\n",
       "    .dataframe thead th {\n",
       "        text-align: right;\n",
       "    }\n",
       "</style>\n",
       "<table border=\"1\" class=\"dataframe\">\n",
       "  <thead>\n",
       "    <tr style=\"text-align: right;\">\n",
       "      <th></th>\n",
       "      <th>Time</th>\n",
       "      <th>Sales</th>\n",
       "    </tr>\n",
       "  </thead>\n",
       "  <tbody>\n",
       "    <tr>\n",
       "      <th>0</th>\n",
       "      <td>Afternoon</td>\n",
       "      <td>98612500</td>\n",
       "    </tr>\n",
       "    <tr>\n",
       "      <th>1</th>\n",
       "      <td>Evening</td>\n",
       "      <td>97527500</td>\n",
       "    </tr>\n",
       "    <tr>\n",
       "      <th>2</th>\n",
       "      <td>Morning</td>\n",
       "      <td>97970000</td>\n",
       "    </tr>\n",
       "  </tbody>\n",
       "</table>\n",
       "</div>"
      ],
      "text/plain": [
       "        Time     Sales\n",
       "0  Afternoon  98612500\n",
       "1    Evening  97527500\n",
       "2    Morning  97970000"
      ]
     },
     "execution_count": 212,
     "metadata": {},
     "output_type": "execute_result"
    }
   ],
   "source": [
    "cat_time['Sales'].sum().reset_index()"
   ]
  },
  {
   "cell_type": "markdown",
   "metadata": {},
   "source": [
    "#### Observations\n",
    "- We have three Time categories: 'Afternoon', 'Evening', 'Morning'\n",
    "- Data is grouped by 'Kids', 'Men', 'Seniors', 'Women'\n",
    "- States are 'NSW', 'NT', 'QLD', 'SA', 'TAS', 'VIC', 'WA'\n",
    "- We can see that we only have three months: Oct, Nov & Dec. \n",
    "- We observe that October has more sales compared to Nov and Dec.\n",
    "- Sales were made to Women\n",
    "- Sales happened in the afternoon."
   ]
  },
  {
   "cell_type": "markdown",
   "metadata": {},
   "source": [
    "### Data analysis\n",
    "\n",
    "a. Perform descriptive statistical analysis on the data in the Sales and Unit columns. Utilize techniques such as mean, median, mode, and standard deviation for this analysis."
   ]
  },
  {
   "cell_type": "code",
   "execution_count": 213,
   "metadata": {},
   "outputs": [
    {
     "name": "stdout",
     "output_type": "stream",
     "text": [
      "Sales.describe():\n",
      "count      7200.000000\n",
      "mean      40848.611111\n",
      "std       26718.514350\n",
      "min        5000.000000\n",
      "25%       20000.000000\n",
      "50%       32500.000000\n",
      "75%       60000.000000\n",
      "max      107500.000000\n",
      "Name: Sales, dtype: float64\n",
      "\n",
      "Total Sales: $294,110,000.00\n",
      "\n",
      "Total Sales mean: $40,848.61\n"
     ]
    }
   ],
   "source": [
    "print(f\"Sales.describe():\\n{df.Sales.describe()}\\n\")\n",
    "locale.setlocale(locale.LC_ALL, 'en_US.UTF-8')\n",
    "#format currency value\n",
    "print(f\"Total Sales: {locale.currency(df['Sales'].sum(), grouping=True)}\\n\")\n",
    "print(f\"Total Sales mean: {'${:,.2f}'.format(df['Sales'].mean())}\")"
   ]
  },
  {
   "cell_type": "code",
   "execution_count": 214,
   "metadata": {},
   "outputs": [
    {
     "name": "stdout",
     "output_type": "stream",
     "text": [
      "Total Sales per month: \n",
      "  YearMonth            Sales\n",
      "0   2020-10  $103,917,500.00\n",
      "1   2020-11   $87,355,000.00\n",
      "2   2020-12  $102,837,500.00\n",
      "\n",
      "Avg per month: \n",
      " YearMonth\n",
      "2020-10    42729.235197\n",
      "2020-11    35082.329317\n",
      "2020-12    45143.766462\n",
      "Freq: M, Name: Sales, dtype: float64\n"
     ]
    }
   ],
   "source": [
    "# Group by YearMonth\n",
    "cat_month_year = df.groupby(['YearMonth'])\n",
    "sales_by_month_year = cat_month_year['Sales'].sum().reset_index()\n",
    "sales_by_month_year['Sales'] = sales_by_month_year['Sales'].apply(lambda x: locale.currency(x,grouping=True))\n",
    "print(f\"Total Sales per month: \\n{sales_by_month_year}\\n\")\n",
    "print(f\"Avg per month: \\n {cat_month_year['Sales'].mean()}\")"
   ]
  },
  {
   "cell_type": "code",
   "execution_count": 215,
   "metadata": {},
   "outputs": [
    {
     "data": {
      "text/plain": [
       "State\n",
       "NSW    $72,302,500.00\n",
       "NT     $22,580,000.00\n",
       "QLD    $33,417,500.00\n",
       "SA     $58,857,500.00\n",
       "TAS    $22,760,000.00\n",
       "VIC    $62,040,000.00\n",
       "WA     $22,152,500.00\n",
       "Name: Sales, dtype: object"
      ]
     },
     "execution_count": 215,
     "metadata": {},
     "output_type": "execute_result"
    }
   ],
   "source": [
    "# df.groupby(['Group', 'Sales']).value_counts()\n",
    "cat_state['Sales'].sum().apply(lambda x: locale.currency(x,grouping=True))"
   ]
  },
  {
   "cell_type": "markdown",
   "metadata": {},
   "source": [
    "#### Observations\n",
    "\n",
    "- October's sales were the highest, even though in avg is lower than Dec.\n",
    "- The state with more sales is NSW \n",
    "- Max sale was for $107,500.00\n",
    "- Min sale was $5,000\n",
    "- Avg sale overall is $40,848.61"
   ]
  },
  {
   "cell_type": "code",
   "execution_count": 216,
   "metadata": {},
   "outputs": [
    {
     "name": "stdout",
     "output_type": "stream",
     "text": [
      "Total Sales by Group: \n",
      "     Group           Sales\n",
      "0  Seniors  $72,152,500.00\n",
      "1     Kids  $73,360,000.00\n",
      "2    Women  $74,177,500.00\n",
      "3      Men  $74,420,000.00\n",
      "\n"
     ]
    },
    {
     "data": {
      "text/html": [
       "<div>\n",
       "<style scoped>\n",
       "    .dataframe tbody tr th:only-of-type {\n",
       "        vertical-align: middle;\n",
       "    }\n",
       "\n",
       "    .dataframe tbody tr th {\n",
       "        vertical-align: top;\n",
       "    }\n",
       "\n",
       "    .dataframe thead th {\n",
       "        text-align: right;\n",
       "    }\n",
       "</style>\n",
       "<table border=\"1\" class=\"dataframe\">\n",
       "  <thead>\n",
       "    <tr style=\"text-align: right;\">\n",
       "      <th></th>\n",
       "      <th>count</th>\n",
       "      <th>mean</th>\n",
       "      <th>std</th>\n",
       "      <th>min</th>\n",
       "      <th>25%</th>\n",
       "      <th>50%</th>\n",
       "      <th>75%</th>\n",
       "      <th>max</th>\n",
       "    </tr>\n",
       "    <tr>\n",
       "      <th>Group</th>\n",
       "      <th></th>\n",
       "      <th></th>\n",
       "      <th></th>\n",
       "      <th></th>\n",
       "      <th></th>\n",
       "      <th></th>\n",
       "      <th></th>\n",
       "      <th></th>\n",
       "    </tr>\n",
       "  </thead>\n",
       "  <tbody>\n",
       "    <tr>\n",
       "      <th>Kids</th>\n",
       "      <td>1797.0</td>\n",
       "      <td>40823.594880</td>\n",
       "      <td>26444.815630</td>\n",
       "      <td>5000.0</td>\n",
       "      <td>20000.0</td>\n",
       "      <td>32500.0</td>\n",
       "      <td>60000.0</td>\n",
       "      <td>107500.0</td>\n",
       "    </tr>\n",
       "    <tr>\n",
       "      <th>Men</th>\n",
       "      <td>1802.0</td>\n",
       "      <td>41298.557159</td>\n",
       "      <td>26784.960976</td>\n",
       "      <td>5000.0</td>\n",
       "      <td>20000.0</td>\n",
       "      <td>32500.0</td>\n",
       "      <td>60000.0</td>\n",
       "      <td>107500.0</td>\n",
       "    </tr>\n",
       "    <tr>\n",
       "      <th>Seniors</th>\n",
       "      <td>1798.0</td>\n",
       "      <td>40129.310345</td>\n",
       "      <td>26209.885324</td>\n",
       "      <td>5000.0</td>\n",
       "      <td>20000.0</td>\n",
       "      <td>32500.0</td>\n",
       "      <td>57500.0</td>\n",
       "      <td>107500.0</td>\n",
       "    </tr>\n",
       "    <tr>\n",
       "      <th>Women</th>\n",
       "      <td>1803.0</td>\n",
       "      <td>41141.153633</td>\n",
       "      <td>27423.673984</td>\n",
       "      <td>5000.0</td>\n",
       "      <td>20000.0</td>\n",
       "      <td>32500.0</td>\n",
       "      <td>61250.0</td>\n",
       "      <td>107500.0</td>\n",
       "    </tr>\n",
       "  </tbody>\n",
       "</table>\n",
       "</div>"
      ],
      "text/plain": [
       "          count          mean           std     min      25%      50%  \\\n",
       "Group                                                                   \n",
       "Kids     1797.0  40823.594880  26444.815630  5000.0  20000.0  32500.0   \n",
       "Men      1802.0  41298.557159  26784.960976  5000.0  20000.0  32500.0   \n",
       "Seniors  1798.0  40129.310345  26209.885324  5000.0  20000.0  32500.0   \n",
       "Women    1803.0  41141.153633  27423.673984  5000.0  20000.0  32500.0   \n",
       "\n",
       "             75%       max  \n",
       "Group                       \n",
       "Kids     60000.0  107500.0  \n",
       "Men      60000.0  107500.0  \n",
       "Seniors  57500.0  107500.0  \n",
       "Women    61250.0  107500.0  "
      ]
     },
     "execution_count": 216,
     "metadata": {},
     "output_type": "execute_result"
    }
   ],
   "source": [
    "# Based on each category\n",
    "cat_group = df.groupby(\"Group\")\n",
    "\n",
    "sales_by_group = cat_group['Sales'].sum().sort_values().reset_index(name='Sales')\n",
    "sales_by_group['Sales'] = sales_by_group['Sales'].apply(lambda x: locale.currency(x,grouping=True))\n",
    "print(f\"Total Sales by Group: \\n{sales_by_group}\\n\")\n",
    "\n",
    "cat_group['Sales'].describe()"
   ]
  },
  {
   "cell_type": "markdown",
   "metadata": {},
   "source": [
    "#### Observations\n",
    "\n",
    "- Overall, sales to men are slightly higher than those to women.\n",
    "- Sales to seniors are the lowest, following Kid's \n",
    "- We can see the average per group. We see that Men's avg matches with Men's sales."
   ]
  },
  {
   "cell_type": "code",
   "execution_count": 217,
   "metadata": {},
   "outputs": [
    {
     "name": "stdout",
     "output_type": "stream",
     "text": [
      "Total Sales by Time: \n",
      "        Time           Sales\n",
      "0    Evening  $97,527,500.00\n",
      "1    Morning  $97,970,000.00\n",
      "2  Afternoon  $98,612,500.00\n",
      "\n"
     ]
    },
    {
     "data": {
      "text/html": [
       "<div>\n",
       "<style scoped>\n",
       "    .dataframe tbody tr th:only-of-type {\n",
       "        vertical-align: middle;\n",
       "    }\n",
       "\n",
       "    .dataframe tbody tr th {\n",
       "        vertical-align: top;\n",
       "    }\n",
       "\n",
       "    .dataframe thead th {\n",
       "        text-align: right;\n",
       "    }\n",
       "</style>\n",
       "<table border=\"1\" class=\"dataframe\">\n",
       "  <thead>\n",
       "    <tr style=\"text-align: right;\">\n",
       "      <th></th>\n",
       "      <th>count</th>\n",
       "      <th>mean</th>\n",
       "      <th>std</th>\n",
       "      <th>min</th>\n",
       "      <th>25%</th>\n",
       "      <th>50%</th>\n",
       "      <th>75%</th>\n",
       "      <th>max</th>\n",
       "    </tr>\n",
       "    <tr>\n",
       "      <th>Time</th>\n",
       "      <th></th>\n",
       "      <th></th>\n",
       "      <th></th>\n",
       "      <th></th>\n",
       "      <th></th>\n",
       "      <th></th>\n",
       "      <th></th>\n",
       "      <th></th>\n",
       "    </tr>\n",
       "  </thead>\n",
       "  <tbody>\n",
       "    <tr>\n",
       "      <th>Afternoon</th>\n",
       "      <td>2401.0</td>\n",
       "      <td>41071.428571</td>\n",
       "      <td>26711.323286</td>\n",
       "      <td>5000.0</td>\n",
       "      <td>20000.0</td>\n",
       "      <td>32500.0</td>\n",
       "      <td>60000.0</td>\n",
       "      <td>107500.0</td>\n",
       "    </tr>\n",
       "    <tr>\n",
       "      <th>Evening</th>\n",
       "      <td>2407.0</td>\n",
       "      <td>40518.280017</td>\n",
       "      <td>26729.045876</td>\n",
       "      <td>5000.0</td>\n",
       "      <td>20000.0</td>\n",
       "      <td>32500.0</td>\n",
       "      <td>57500.0</td>\n",
       "      <td>107500.0</td>\n",
       "    </tr>\n",
       "    <tr>\n",
       "      <th>Morning</th>\n",
       "      <td>2392.0</td>\n",
       "      <td>40957.357860</td>\n",
       "      <td>26723.096013</td>\n",
       "      <td>5000.0</td>\n",
       "      <td>20000.0</td>\n",
       "      <td>32500.0</td>\n",
       "      <td>60000.0</td>\n",
       "      <td>107500.0</td>\n",
       "    </tr>\n",
       "  </tbody>\n",
       "</table>\n",
       "</div>"
      ],
      "text/plain": [
       "            count          mean           std     min      25%      50%  \\\n",
       "Time                                                                      \n",
       "Afternoon  2401.0  41071.428571  26711.323286  5000.0  20000.0  32500.0   \n",
       "Evening    2407.0  40518.280017  26729.045876  5000.0  20000.0  32500.0   \n",
       "Morning    2392.0  40957.357860  26723.096013  5000.0  20000.0  32500.0   \n",
       "\n",
       "               75%       max  \n",
       "Time                          \n",
       "Afternoon  60000.0  107500.0  \n",
       "Evening    57500.0  107500.0  \n",
       "Morning    60000.0  107500.0  "
      ]
     },
     "execution_count": 217,
     "metadata": {},
     "output_type": "execute_result"
    }
   ],
   "source": [
    "# Based on each category\n",
    "cat_time = df.groupby(\"Time\")\n",
    "sales_by_time = cat_time['Sales'].sum().sort_values().reset_index(name='Sales')\n",
    "sales_by_time['Sales'] = sales_by_time['Sales'].apply(lambda x: locale.currency(x,grouping=True))\n",
    "print(f\"Total Sales by Time: \\n{sales_by_time}\\n\")\n",
    "\n",
    "cat_time['Sales'].describe()\n"
   ]
  },
  {
   "cell_type": "code",
   "execution_count": 218,
   "metadata": {},
   "outputs": [
    {
     "name": "stdout",
     "output_type": "stream",
     "text": [
      "Total Sales by State: \n",
      "  State           Sales\n",
      "0    WA  $22,152,500.00\n",
      "1    NT  $22,580,000.00\n",
      "2   TAS  $22,760,000.00\n",
      "3   QLD  $33,417,500.00\n",
      "4    SA  $58,857,500.00\n",
      "5   VIC  $62,040,000.00\n",
      "6   NSW  $72,302,500.00\n",
      "\n"
     ]
    },
    {
     "data": {
      "text/html": [
       "<div>\n",
       "<style scoped>\n",
       "    .dataframe tbody tr th:only-of-type {\n",
       "        vertical-align: middle;\n",
       "    }\n",
       "\n",
       "    .dataframe tbody tr th {\n",
       "        vertical-align: top;\n",
       "    }\n",
       "\n",
       "    .dataframe thead th {\n",
       "        text-align: right;\n",
       "    }\n",
       "</style>\n",
       "<table border=\"1\" class=\"dataframe\">\n",
       "  <thead>\n",
       "    <tr style=\"text-align: right;\">\n",
       "      <th></th>\n",
       "      <th>count</th>\n",
       "      <th>mean</th>\n",
       "      <th>std</th>\n",
       "      <th>min</th>\n",
       "      <th>25%</th>\n",
       "      <th>50%</th>\n",
       "      <th>75%</th>\n",
       "      <th>max</th>\n",
       "    </tr>\n",
       "    <tr>\n",
       "      <th>State</th>\n",
       "      <th></th>\n",
       "      <th></th>\n",
       "      <th></th>\n",
       "      <th></th>\n",
       "      <th></th>\n",
       "      <th></th>\n",
       "      <th></th>\n",
       "      <th></th>\n",
       "    </tr>\n",
       "  </thead>\n",
       "  <tbody>\n",
       "    <tr>\n",
       "      <th>NSW</th>\n",
       "      <td>1056.0</td>\n",
       "      <td>68468.276515</td>\n",
       "      <td>19864.259440</td>\n",
       "      <td>30000.0</td>\n",
       "      <td>52500.0</td>\n",
       "      <td>70000.0</td>\n",
       "      <td>85000.0</td>\n",
       "      <td>107500.0</td>\n",
       "    </tr>\n",
       "    <tr>\n",
       "      <th>NT</th>\n",
       "      <td>1080.0</td>\n",
       "      <td>20907.407407</td>\n",
       "      <td>8961.907893</td>\n",
       "      <td>5000.0</td>\n",
       "      <td>15000.0</td>\n",
       "      <td>20000.0</td>\n",
       "      <td>27500.0</td>\n",
       "      <td>37500.0</td>\n",
       "    </tr>\n",
       "    <tr>\n",
       "      <th>QLD</th>\n",
       "      <td>1080.0</td>\n",
       "      <td>30942.129630</td>\n",
       "      <td>13344.638002</td>\n",
       "      <td>7500.0</td>\n",
       "      <td>20000.0</td>\n",
       "      <td>30000.0</td>\n",
       "      <td>40000.0</td>\n",
       "      <td>62500.0</td>\n",
       "    </tr>\n",
       "    <tr>\n",
       "      <th>SA</th>\n",
       "      <td>1080.0</td>\n",
       "      <td>54497.685185</td>\n",
       "      <td>17460.965183</td>\n",
       "      <td>25000.0</td>\n",
       "      <td>40000.0</td>\n",
       "      <td>52500.0</td>\n",
       "      <td>67500.0</td>\n",
       "      <td>87500.0</td>\n",
       "    </tr>\n",
       "    <tr>\n",
       "      <th>TAS</th>\n",
       "      <td>1080.0</td>\n",
       "      <td>21074.074074</td>\n",
       "      <td>9024.684205</td>\n",
       "      <td>5000.0</td>\n",
       "      <td>15000.0</td>\n",
       "      <td>20000.0</td>\n",
       "      <td>27500.0</td>\n",
       "      <td>37500.0</td>\n",
       "    </tr>\n",
       "    <tr>\n",
       "      <th>VIC</th>\n",
       "      <td>744.0</td>\n",
       "      <td>83387.096774</td>\n",
       "      <td>15469.416540</td>\n",
       "      <td>50000.0</td>\n",
       "      <td>72500.0</td>\n",
       "      <td>85000.0</td>\n",
       "      <td>97500.0</td>\n",
       "      <td>107500.0</td>\n",
       "    </tr>\n",
       "    <tr>\n",
       "      <th>WA</th>\n",
       "      <td>1080.0</td>\n",
       "      <td>20511.574074</td>\n",
       "      <td>9231.905897</td>\n",
       "      <td>5000.0</td>\n",
       "      <td>12500.0</td>\n",
       "      <td>20000.0</td>\n",
       "      <td>27500.0</td>\n",
       "      <td>37500.0</td>\n",
       "    </tr>\n",
       "  </tbody>\n",
       "</table>\n",
       "</div>"
      ],
      "text/plain": [
       "        count          mean           std      min      25%      50%      75%  \\\n",
       "State                                                                           \n",
       "NSW    1056.0  68468.276515  19864.259440  30000.0  52500.0  70000.0  85000.0   \n",
       "NT     1080.0  20907.407407   8961.907893   5000.0  15000.0  20000.0  27500.0   \n",
       "QLD    1080.0  30942.129630  13344.638002   7500.0  20000.0  30000.0  40000.0   \n",
       "SA     1080.0  54497.685185  17460.965183  25000.0  40000.0  52500.0  67500.0   \n",
       "TAS    1080.0  21074.074074   9024.684205   5000.0  15000.0  20000.0  27500.0   \n",
       "VIC     744.0  83387.096774  15469.416540  50000.0  72500.0  85000.0  97500.0   \n",
       "WA     1080.0  20511.574074   9231.905897   5000.0  12500.0  20000.0  27500.0   \n",
       "\n",
       "            max  \n",
       "State            \n",
       "NSW    107500.0  \n",
       "NT      37500.0  \n",
       "QLD     62500.0  \n",
       "SA      87500.0  \n",
       "TAS     37500.0  \n",
       "VIC    107500.0  \n",
       "WA      37500.0  "
      ]
     },
     "execution_count": 218,
     "metadata": {},
     "output_type": "execute_result"
    }
   ],
   "source": [
    "# Based on each category\n",
    "cat_state = df.groupby(\"State\")\n",
    "sales_by_state = cat_state['Sales'].sum().sort_values().reset_index(name='Sales')\n",
    "sales_by_state['Sales'] = sales_by_state['Sales'].apply(lambda x: locale.currency(x,grouping=True))\n",
    "print(f\"Total Sales by State: \\n{sales_by_state}\\n\")\n",
    "\n",
    "cat_state['Sales'].describe()\n"
   ]
  },
  {
   "cell_type": "markdown",
   "metadata": {},
   "source": [
    "#### Observations\n",
    "\n",
    "- We can see that sales happen more in the afternoon (98,612,500) than in the morning and evening.\n",
    "- Even though the amount in $$$ is higher in the afternoon, counts are slightly higher in the evening.  \n",
    "- The NSW state has the highest sale ($72,302,500) even though counts are slightly lower, and \n",
    "- The WA State has the lowest sale ($22,152,500)"
   ]
  },
  {
   "cell_type": "code",
   "execution_count": 219,
   "metadata": {},
   "outputs": [
    {
     "name": "stdout",
     "output_type": "stream",
     "text": [
      "Unit.describe():\n",
      "count    7200.000000\n",
      "mean       16.339444\n",
      "std        10.687406\n",
      "min         2.000000\n",
      "25%         8.000000\n",
      "50%        13.000000\n",
      "75%        24.000000\n",
      "max        43.000000\n",
      "Name: Unit, dtype: float64\n",
      "\n",
      "Total unit: 117,644\n",
      "\n",
      "Total units per month: \n",
      "  YearMonth   Unit\n",
      "0   2020-11  34942\n",
      "1   2020-12  41135\n",
      "2   2020-10  41567\n",
      "\n",
      "By Group:\n",
      "      Group       mean    sum\n",
      "0     Kids  16.329438  29344\n",
      "1      Men  16.519423  29768\n",
      "2  Seniors  16.051724  28861\n",
      "3    Women  16.456461  29671\n",
      "\n",
      "By Time:\n",
      "                 mean    sum\n",
      "Time                       \n",
      "Afternoon  16.428571  39445\n",
      "Evening    16.207312  39011\n",
      "Morning    16.382943  39188\n",
      "\n",
      "By State:\n",
      "             mean    sum\n",
      "State                  \n",
      "NSW    27.387311  28921\n",
      "NT      8.362963   9032\n",
      "QLD    12.376852  13367\n",
      "SA     21.799074  23543\n",
      "TAS     8.429630   9104\n",
      "VIC    33.354839  24816\n",
      "WA      8.204630   8861\n",
      "\n",
      "Unit median: 13.0\n",
      "Unit mean: 16.34\n"
     ]
    }
   ],
   "source": [
    "print(f\"Unit.describe():\\n{df.Unit.describe()}\\n\")\n",
    "print(f\"Total unit: {'{:,}'.format(df['Unit'].sum())}\\n\")\n",
    "print(f\"Total units per month: \\n{cat_month_year['Unit'].sum().sort_values().reset_index(name='Unit')}\\n\")\n",
    "# # Based on each category\n",
    "print(f\"By Group:\\n {cat_group.Unit.agg(['mean', 'sum']).reset_index()}\\n\")\n",
    "print(f\"By Time:\\n {cat_time.Unit.agg(['mean', 'sum'])}\\n\")\n",
    "print(f\"By State:\\n {cat_state.Unit.agg(['mean', 'sum'])}\\n\")\n",
    "\n",
    "print(f\"Unit median: {df['Unit'].median()}\")\n",
    "print(f\"Unit mean: {'{:,.2f}'.format(df['Unit'].mean())}\")"
   ]
  },
  {
   "cell_type": "markdown",
   "metadata": {},
   "source": [
    "#### Observations\n",
    "\n",
    "- Total units in Oct match sales as the highest. \n",
    "- Same, Men's units match sales by group\n",
    "- Unit in the afternoon is the highest\n",
    "- We can conclude that Men's shops more in the afternoon."
   ]
  },
  {
   "cell_type": "markdown",
   "metadata": {},
   "source": [
    "b. Identify the group with the highest sales and the group with the lowest sales based on the data provided.\n",
    "\n",
    "c. Identify the group within the highest and lowest sales based on the data provided.\n"
   ]
  },
  {
   "cell_type": "code",
   "execution_count": 220,
   "metadata": {},
   "outputs": [
    {
     "data": {
      "text/plain": [
       "Group\n",
       "Men        74420000\n",
       "Women      74177500\n",
       "Kids       73360000\n",
       "Seniors    72152500\n",
       "Name: Sales, dtype: int32"
      ]
     },
     "execution_count": 220,
     "metadata": {},
     "output_type": "execute_result"
    }
   ],
   "source": [
    "cat_group.Sales.sum().nlargest(5)"
   ]
  },
  {
   "cell_type": "markdown",
   "metadata": {},
   "source": [
    "#### Observations\n",
    "- The group with the highest sales is Men.\n",
    "- The group with the lowest sales is Seniors.\n",
    "- The groups within the highest and lowest sales are Women and Kids."
   ]
  },
  {
   "cell_type": "markdown",
   "metadata": {},
   "source": [
    "d. Generate weekly, monthly, and quarterly reports to document and present the results of the analysis conducted."
   ]
  },
  {
   "cell_type": "code",
   "execution_count": 221,
   "metadata": {},
   "outputs": [],
   "source": [
    "# Create a new columns 'YearQuarter' and 'YearWeek' to hold the year, quarter and week number for each date\n",
    "df['YearWeek'] = df['Date'].dt.strftime('%Y-%U')\n",
    "df['YearQuarter'] = df['Date'].dt.to_period('Q')"
   ]
  },
  {
   "cell_type": "code",
   "execution_count": 222,
   "metadata": {},
   "outputs": [
    {
     "data": {
      "text/html": [
       "<div>\n",
       "<style scoped>\n",
       "    .dataframe tbody tr th:only-of-type {\n",
       "        vertical-align: middle;\n",
       "    }\n",
       "\n",
       "    .dataframe tbody tr th {\n",
       "        vertical-align: top;\n",
       "    }\n",
       "\n",
       "    .dataframe thead th {\n",
       "        text-align: right;\n",
       "    }\n",
       "</style>\n",
       "<table border=\"1\" class=\"dataframe\">\n",
       "  <thead>\n",
       "    <tr style=\"text-align: right;\">\n",
       "      <th></th>\n",
       "      <th>Date</th>\n",
       "      <th>Time</th>\n",
       "      <th>State</th>\n",
       "      <th>Group</th>\n",
       "      <th>Unit</th>\n",
       "      <th>Sales</th>\n",
       "      <th>YearMonth</th>\n",
       "      <th>YearWeek</th>\n",
       "      <th>YearQuarter</th>\n",
       "    </tr>\n",
       "  </thead>\n",
       "  <tbody>\n",
       "    <tr>\n",
       "      <th>0</th>\n",
       "      <td>2020-10-01</td>\n",
       "      <td>Morning</td>\n",
       "      <td>WA</td>\n",
       "      <td>Kids</td>\n",
       "      <td>8</td>\n",
       "      <td>20000</td>\n",
       "      <td>2020-10</td>\n",
       "      <td>2020-39</td>\n",
       "      <td>2020Q4</td>\n",
       "    </tr>\n",
       "    <tr>\n",
       "      <th>1</th>\n",
       "      <td>2020-10-01</td>\n",
       "      <td>Morning</td>\n",
       "      <td>WA</td>\n",
       "      <td>Men</td>\n",
       "      <td>8</td>\n",
       "      <td>20000</td>\n",
       "      <td>2020-10</td>\n",
       "      <td>2020-39</td>\n",
       "      <td>2020Q4</td>\n",
       "    </tr>\n",
       "    <tr>\n",
       "      <th>2</th>\n",
       "      <td>2020-10-01</td>\n",
       "      <td>Morning</td>\n",
       "      <td>WA</td>\n",
       "      <td>Women</td>\n",
       "      <td>4</td>\n",
       "      <td>10000</td>\n",
       "      <td>2020-10</td>\n",
       "      <td>2020-39</td>\n",
       "      <td>2020Q4</td>\n",
       "    </tr>\n",
       "    <tr>\n",
       "      <th>3</th>\n",
       "      <td>2020-10-01</td>\n",
       "      <td>Morning</td>\n",
       "      <td>WA</td>\n",
       "      <td>Seniors</td>\n",
       "      <td>15</td>\n",
       "      <td>37500</td>\n",
       "      <td>2020-10</td>\n",
       "      <td>2020-39</td>\n",
       "      <td>2020Q4</td>\n",
       "    </tr>\n",
       "    <tr>\n",
       "      <th>4</th>\n",
       "      <td>2020-10-01</td>\n",
       "      <td>Afternoon</td>\n",
       "      <td>WA</td>\n",
       "      <td>Kids</td>\n",
       "      <td>3</td>\n",
       "      <td>7500</td>\n",
       "      <td>2020-10</td>\n",
       "      <td>2020-39</td>\n",
       "      <td>2020Q4</td>\n",
       "    </tr>\n",
       "  </tbody>\n",
       "</table>\n",
       "</div>"
      ],
      "text/plain": [
       "        Date       Time State    Group  Unit  Sales YearMonth YearWeek  \\\n",
       "0 2020-10-01    Morning    WA     Kids     8  20000   2020-10  2020-39   \n",
       "1 2020-10-01    Morning    WA      Men     8  20000   2020-10  2020-39   \n",
       "2 2020-10-01    Morning    WA    Women     4  10000   2020-10  2020-39   \n",
       "3 2020-10-01    Morning    WA  Seniors    15  37500   2020-10  2020-39   \n",
       "4 2020-10-01  Afternoon    WA     Kids     3   7500   2020-10  2020-39   \n",
       "\n",
       "  YearQuarter  \n",
       "0      2020Q4  \n",
       "1      2020Q4  \n",
       "2      2020Q4  \n",
       "3      2020Q4  \n",
       "4      2020Q4  "
      ]
     },
     "execution_count": 222,
     "metadata": {},
     "output_type": "execute_result"
    }
   ],
   "source": [
    "df.head()"
   ]
  },
  {
   "cell_type": "code",
   "execution_count": 223,
   "metadata": {},
   "outputs": [
    {
     "data": {
      "text/html": [
       "<div>\n",
       "<style scoped>\n",
       "    .dataframe tbody tr th:only-of-type {\n",
       "        vertical-align: middle;\n",
       "    }\n",
       "\n",
       "    .dataframe tbody tr th {\n",
       "        vertical-align: top;\n",
       "    }\n",
       "\n",
       "    .dataframe thead th {\n",
       "        text-align: right;\n",
       "    }\n",
       "</style>\n",
       "<table border=\"1\" class=\"dataframe\">\n",
       "  <thead>\n",
       "    <tr style=\"text-align: right;\">\n",
       "      <th></th>\n",
       "      <th>count</th>\n",
       "      <th>mean</th>\n",
       "      <th>std</th>\n",
       "      <th>min</th>\n",
       "      <th>25%</th>\n",
       "      <th>50%</th>\n",
       "      <th>75%</th>\n",
       "      <th>max</th>\n",
       "    </tr>\n",
       "    <tr>\n",
       "      <th>YearWeek</th>\n",
       "      <th></th>\n",
       "      <th></th>\n",
       "      <th></th>\n",
       "      <th></th>\n",
       "      <th></th>\n",
       "      <th></th>\n",
       "      <th></th>\n",
       "      <th></th>\n",
       "    </tr>\n",
       "  </thead>\n",
       "  <tbody>\n",
       "    <tr>\n",
       "      <th>2020-39</th>\n",
       "      <td>242.0</td>\n",
       "      <td>41900.826446</td>\n",
       "      <td>26976.870363</td>\n",
       "      <td>7500.0</td>\n",
       "      <td>20000.0</td>\n",
       "      <td>32500.0</td>\n",
       "      <td>62500.0</td>\n",
       "      <td>107500.0</td>\n",
       "    </tr>\n",
       "    <tr>\n",
       "      <th>2020-40</th>\n",
       "      <td>569.0</td>\n",
       "      <td>43273.286467</td>\n",
       "      <td>27041.545174</td>\n",
       "      <td>7500.0</td>\n",
       "      <td>22500.0</td>\n",
       "      <td>35000.0</td>\n",
       "      <td>65000.0</td>\n",
       "      <td>107500.0</td>\n",
       "    </tr>\n",
       "    <tr>\n",
       "      <th>2020-41</th>\n",
       "      <td>563.0</td>\n",
       "      <td>42446.714032</td>\n",
       "      <td>26268.050951</td>\n",
       "      <td>7500.0</td>\n",
       "      <td>22500.0</td>\n",
       "      <td>35000.0</td>\n",
       "      <td>62500.0</td>\n",
       "      <td>107500.0</td>\n",
       "    </tr>\n",
       "    <tr>\n",
       "      <th>2020-42</th>\n",
       "      <td>572.0</td>\n",
       "      <td>43216.783217</td>\n",
       "      <td>27323.502033</td>\n",
       "      <td>7500.0</td>\n",
       "      <td>22500.0</td>\n",
       "      <td>35000.0</td>\n",
       "      <td>65000.0</td>\n",
       "      <td>107500.0</td>\n",
       "    </tr>\n",
       "    <tr>\n",
       "      <th>2020-43</th>\n",
       "      <td>486.0</td>\n",
       "      <td>42258.230453</td>\n",
       "      <td>27200.206264</td>\n",
       "      <td>7500.0</td>\n",
       "      <td>20000.0</td>\n",
       "      <td>32500.0</td>\n",
       "      <td>65000.0</td>\n",
       "      <td>107500.0</td>\n",
       "    </tr>\n",
       "    <tr>\n",
       "      <th>2020-44</th>\n",
       "      <td>582.0</td>\n",
       "      <td>34377.147766</td>\n",
       "      <td>25590.881756</td>\n",
       "      <td>5000.0</td>\n",
       "      <td>15000.0</td>\n",
       "      <td>25000.0</td>\n",
       "      <td>52500.0</td>\n",
       "      <td>107500.0</td>\n",
       "    </tr>\n",
       "    <tr>\n",
       "      <th>2020-45</th>\n",
       "      <td>579.0</td>\n",
       "      <td>34995.682211</td>\n",
       "      <td>26136.990691</td>\n",
       "      <td>5000.0</td>\n",
       "      <td>15000.0</td>\n",
       "      <td>25000.0</td>\n",
       "      <td>52500.0</td>\n",
       "      <td>107500.0</td>\n",
       "    </tr>\n",
       "    <tr>\n",
       "      <th>2020-46</th>\n",
       "      <td>581.0</td>\n",
       "      <td>35443.201377</td>\n",
       "      <td>26633.435223</td>\n",
       "      <td>5000.0</td>\n",
       "      <td>15000.0</td>\n",
       "      <td>25000.0</td>\n",
       "      <td>52500.0</td>\n",
       "      <td>107500.0</td>\n",
       "    </tr>\n",
       "    <tr>\n",
       "      <th>2020-47</th>\n",
       "      <td>583.0</td>\n",
       "      <td>35257.289880</td>\n",
       "      <td>26391.234569</td>\n",
       "      <td>5000.0</td>\n",
       "      <td>15000.0</td>\n",
       "      <td>25000.0</td>\n",
       "      <td>51250.0</td>\n",
       "      <td>107500.0</td>\n",
       "    </tr>\n",
       "    <tr>\n",
       "      <th>2020-48</th>\n",
       "      <td>546.0</td>\n",
       "      <td>42586.996337</td>\n",
       "      <td>26428.529819</td>\n",
       "      <td>5000.0</td>\n",
       "      <td>22500.0</td>\n",
       "      <td>35000.0</td>\n",
       "      <td>60000.0</td>\n",
       "      <td>107500.0</td>\n",
       "    </tr>\n",
       "    <tr>\n",
       "      <th>2020-49</th>\n",
       "      <td>533.0</td>\n",
       "      <td>44385.553471</td>\n",
       "      <td>25472.232366</td>\n",
       "      <td>12500.0</td>\n",
       "      <td>25000.0</td>\n",
       "      <td>35000.0</td>\n",
       "      <td>60000.0</td>\n",
       "      <td>107500.0</td>\n",
       "    </tr>\n",
       "    <tr>\n",
       "      <th>2020-50</th>\n",
       "      <td>532.0</td>\n",
       "      <td>45723.684211</td>\n",
       "      <td>26593.610435</td>\n",
       "      <td>12500.0</td>\n",
       "      <td>25000.0</td>\n",
       "      <td>35000.0</td>\n",
       "      <td>67500.0</td>\n",
       "      <td>107500.0</td>\n",
       "    </tr>\n",
       "    <tr>\n",
       "      <th>2020-51</th>\n",
       "      <td>528.0</td>\n",
       "      <td>44403.409091</td>\n",
       "      <td>25642.579548</td>\n",
       "      <td>12500.0</td>\n",
       "      <td>25000.0</td>\n",
       "      <td>37500.0</td>\n",
       "      <td>60625.0</td>\n",
       "      <td>107500.0</td>\n",
       "    </tr>\n",
       "    <tr>\n",
       "      <th>2020-52</th>\n",
       "      <td>304.0</td>\n",
       "      <td>46365.131579</td>\n",
       "      <td>26327.523928</td>\n",
       "      <td>12500.0</td>\n",
       "      <td>25000.0</td>\n",
       "      <td>37500.0</td>\n",
       "      <td>70000.0</td>\n",
       "      <td>107500.0</td>\n",
       "    </tr>\n",
       "  </tbody>\n",
       "</table>\n",
       "</div>"
      ],
      "text/plain": [
       "          count          mean           std      min      25%      50%  \\\n",
       "YearWeek                                                                 \n",
       "2020-39   242.0  41900.826446  26976.870363   7500.0  20000.0  32500.0   \n",
       "2020-40   569.0  43273.286467  27041.545174   7500.0  22500.0  35000.0   \n",
       "2020-41   563.0  42446.714032  26268.050951   7500.0  22500.0  35000.0   \n",
       "2020-42   572.0  43216.783217  27323.502033   7500.0  22500.0  35000.0   \n",
       "2020-43   486.0  42258.230453  27200.206264   7500.0  20000.0  32500.0   \n",
       "2020-44   582.0  34377.147766  25590.881756   5000.0  15000.0  25000.0   \n",
       "2020-45   579.0  34995.682211  26136.990691   5000.0  15000.0  25000.0   \n",
       "2020-46   581.0  35443.201377  26633.435223   5000.0  15000.0  25000.0   \n",
       "2020-47   583.0  35257.289880  26391.234569   5000.0  15000.0  25000.0   \n",
       "2020-48   546.0  42586.996337  26428.529819   5000.0  22500.0  35000.0   \n",
       "2020-49   533.0  44385.553471  25472.232366  12500.0  25000.0  35000.0   \n",
       "2020-50   532.0  45723.684211  26593.610435  12500.0  25000.0  35000.0   \n",
       "2020-51   528.0  44403.409091  25642.579548  12500.0  25000.0  37500.0   \n",
       "2020-52   304.0  46365.131579  26327.523928  12500.0  25000.0  37500.0   \n",
       "\n",
       "              75%       max  \n",
       "YearWeek                     \n",
       "2020-39   62500.0  107500.0  \n",
       "2020-40   65000.0  107500.0  \n",
       "2020-41   62500.0  107500.0  \n",
       "2020-42   65000.0  107500.0  \n",
       "2020-43   65000.0  107500.0  \n",
       "2020-44   52500.0  107500.0  \n",
       "2020-45   52500.0  107500.0  \n",
       "2020-46   52500.0  107500.0  \n",
       "2020-47   51250.0  107500.0  \n",
       "2020-48   60000.0  107500.0  \n",
       "2020-49   60000.0  107500.0  \n",
       "2020-50   67500.0  107500.0  \n",
       "2020-51   60625.0  107500.0  \n",
       "2020-52   70000.0  107500.0  "
      ]
     },
     "execution_count": 223,
     "metadata": {},
     "output_type": "execute_result"
    }
   ],
   "source": [
    "# Group by year & week\n",
    "df.groupby(['YearWeek']).Sales.describe()"
   ]
  },
  {
   "cell_type": "code",
   "execution_count": 224,
   "metadata": {},
   "outputs": [
    {
     "name": "stdout",
     "output_type": "stream",
     "text": [
      "Weekly mean:\n"
     ]
    },
    {
     "data": {
      "text/plain": [
       "YearWeek\n",
       "2020-39    $10,140,000.00\n",
       "2020-40    $24,622,500.00\n",
       "2020-41    $23,897,500.00\n",
       "2020-42    $24,720,000.00\n",
       "2020-43    $20,537,500.00\n",
       "2020-44    $20,007,500.00\n",
       "2020-45    $20,262,500.00\n",
       "2020-46    $20,592,500.00\n",
       "2020-47    $20,555,000.00\n",
       "2020-48    $23,252,500.00\n",
       "2020-49    $23,657,500.00\n",
       "2020-50    $24,325,000.00\n",
       "2020-51    $23,445,000.00\n",
       "2020-52    $14,095,000.00\n",
       "Name: Sales, dtype: object"
      ]
     },
     "execution_count": 224,
     "metadata": {},
     "output_type": "execute_result"
    }
   ],
   "source": [
    "print(f\"Weekly mean:\")\n",
    "df.groupby(['YearWeek']).Sales.sum().apply(lambda x: locale.currency(x,grouping=True))"
   ]
  },
  {
   "cell_type": "code",
   "execution_count": 225,
   "metadata": {},
   "outputs": [
    {
     "name": "stdout",
     "output_type": "stream",
     "text": [
      "Quarterly mean: \n",
      "YearQuarter\n",
      "2020Q4    $40,848.61\n",
      "Freq: Q-DEC, Name: Sales, dtype: object\n",
      "\n",
      "Quarterly sum: \n",
      "YearQuarter\n",
      "2020Q4    $294,110,000.00\n",
      "Freq: Q-DEC, Name: Sales, dtype: object\n"
     ]
    },
    {
     "data": {
      "text/html": [
       "<div>\n",
       "<style scoped>\n",
       "    .dataframe tbody tr th:only-of-type {\n",
       "        vertical-align: middle;\n",
       "    }\n",
       "\n",
       "    .dataframe tbody tr th {\n",
       "        vertical-align: top;\n",
       "    }\n",
       "\n",
       "    .dataframe thead th {\n",
       "        text-align: right;\n",
       "    }\n",
       "</style>\n",
       "<table border=\"1\" class=\"dataframe\">\n",
       "  <thead>\n",
       "    <tr style=\"text-align: right;\">\n",
       "      <th></th>\n",
       "      <th>count</th>\n",
       "      <th>mean</th>\n",
       "      <th>std</th>\n",
       "      <th>min</th>\n",
       "      <th>25%</th>\n",
       "      <th>50%</th>\n",
       "      <th>75%</th>\n",
       "      <th>max</th>\n",
       "    </tr>\n",
       "    <tr>\n",
       "      <th>YearQuarter</th>\n",
       "      <th></th>\n",
       "      <th></th>\n",
       "      <th></th>\n",
       "      <th></th>\n",
       "      <th></th>\n",
       "      <th></th>\n",
       "      <th></th>\n",
       "      <th></th>\n",
       "    </tr>\n",
       "  </thead>\n",
       "  <tbody>\n",
       "    <tr>\n",
       "      <th>2020Q4</th>\n",
       "      <td>7200.0</td>\n",
       "      <td>40848.611111</td>\n",
       "      <td>26718.51435</td>\n",
       "      <td>5000.0</td>\n",
       "      <td>20000.0</td>\n",
       "      <td>32500.0</td>\n",
       "      <td>60000.0</td>\n",
       "      <td>107500.0</td>\n",
       "    </tr>\n",
       "  </tbody>\n",
       "</table>\n",
       "</div>"
      ],
      "text/plain": [
       "              count          mean          std     min      25%      50%  \\\n",
       "YearQuarter                                                                \n",
       "2020Q4       7200.0  40848.611111  26718.51435  5000.0  20000.0  32500.0   \n",
       "\n",
       "                 75%       max  \n",
       "YearQuarter                     \n",
       "2020Q4       60000.0  107500.0  "
      ]
     },
     "execution_count": 225,
     "metadata": {},
     "output_type": "execute_result"
    }
   ],
   "source": [
    "# Group by Q\n",
    "# print(f\"Quarterly: {df.groupby('YearQuarter').Sales.describe()}\")\n",
    "print(f\"Quarterly mean: \\n{df.groupby('YearQuarter').Sales.mean().apply(lambda x: locale.currency(x,grouping=True))}\\n\")\n",
    "print(f\"Quarterly sum: \\n{df.groupby('YearQuarter').Sales.sum().apply(lambda x: locale.currency(x,grouping=True))}\")\n",
    "df.groupby('YearQuarter').Sales.describe()\n"
   ]
  },
  {
   "cell_type": "code",
   "execution_count": 226,
   "metadata": {},
   "outputs": [
    {
     "data": {
      "text/plain": [
       "YearMonth\n",
       "2020-10    $103,917,500.00\n",
       "2020-11     $87,355,000.00\n",
       "2020-12    $102,837,500.00\n",
       "Freq: M, Name: Sales, dtype: object"
      ]
     },
     "execution_count": 226,
     "metadata": {},
     "output_type": "execute_result"
    }
   ],
   "source": [
    "# Group by month & year\n",
    "\n",
    "# df.groupby('YearQuarter').value_counts()\n",
    "df.groupby('YearMonth').Sales.mean()\n",
    "# print(f\"Monthly: {df.groupby('YearMonth').Sales.describe()}\\n\")\n",
    "df.groupby('YearMonth').Sales.sum().apply(lambda x: locale.currency(x,grouping=True))"
   ]
  },
  {
   "cell_type": "code",
   "execution_count": 227,
   "metadata": {},
   "outputs": [
    {
     "data": {
      "text/plain": [
       "YearWeek  Sales \n",
       "2020-39   7500      12\n",
       "          10000      8\n",
       "          12500      7\n",
       "          15000     10\n",
       "          17500     13\n",
       "                    ..\n",
       "2020-52   97500      1\n",
       "          100000     3\n",
       "          102500     6\n",
       "          105000     2\n",
       "          107500     2\n",
       "Name: Unit, Length: 567, dtype: int64"
      ]
     },
     "execution_count": 227,
     "metadata": {},
     "output_type": "execute_result"
    }
   ],
   "source": [
    "df['YearWeek'] = df['Date'].dt.strftime('%Y-%U')\n",
    "df.groupby(['YearWeek', 'Sales']).Unit.count()\n",
    "# print(f\"Total units per month: \\n{cat_month_year['Unit'].sum().sort_values().reset_index(name='Unit')}\\n\")"
   ]
  },
  {
   "cell_type": "markdown",
   "metadata": {},
   "source": [
    "#### Observations\n",
    "\n",
    "- We only have the last quarter (2020Q4) with a min of 5,000 and a max of 107,5000\n",
    "- We have 14 weeks in total, we can see that the min: \n",
    "    - from week 39 to 43 is consistently 7,500. \n",
    "    - from week 39 to 43 is consistently 7,500. \n",
    "    - from week 44 to 48 went down consistently to 5,000\n"
   ]
  },
  {
   "cell_type": "code",
   "execution_count": 228,
   "metadata": {},
   "outputs": [
    {
     "name": "stdout",
     "output_type": "stream",
     "text": [
      "Weekly:           count          mean           std      min      25%      50%  \\\n",
      "YearWeek                                                                 \n",
      "2020-39   242.0  41900.826446  26976.870363   7500.0  20000.0  32500.0   \n",
      "2020-40   569.0  43273.286467  27041.545174   7500.0  22500.0  35000.0   \n",
      "2020-41   563.0  42446.714032  26268.050951   7500.0  22500.0  35000.0   \n",
      "2020-42   572.0  43216.783217  27323.502033   7500.0  22500.0  35000.0   \n",
      "2020-43   486.0  42258.230453  27200.206264   7500.0  20000.0  32500.0   \n",
      "2020-44   582.0  34377.147766  25590.881756   5000.0  15000.0  25000.0   \n",
      "2020-45   579.0  34995.682211  26136.990691   5000.0  15000.0  25000.0   \n",
      "2020-46   581.0  35443.201377  26633.435223   5000.0  15000.0  25000.0   \n",
      "2020-47   583.0  35257.289880  26391.234569   5000.0  15000.0  25000.0   \n",
      "2020-48   546.0  42586.996337  26428.529819   5000.0  22500.0  35000.0   \n",
      "2020-49   533.0  44385.553471  25472.232366  12500.0  25000.0  35000.0   \n",
      "2020-50   532.0  45723.684211  26593.610435  12500.0  25000.0  35000.0   \n",
      "2020-51   528.0  44403.409091  25642.579548  12500.0  25000.0  37500.0   \n",
      "2020-52   304.0  46365.131579  26327.523928  12500.0  25000.0  37500.0   \n",
      "\n",
      "              75%       max  \n",
      "YearWeek                     \n",
      "2020-39   62500.0  107500.0  \n",
      "2020-40   65000.0  107500.0  \n",
      "2020-41   62500.0  107500.0  \n",
      "2020-42   65000.0  107500.0  \n",
      "2020-43   65000.0  107500.0  \n",
      "2020-44   52500.0  107500.0  \n",
      "2020-45   52500.0  107500.0  \n",
      "2020-46   52500.0  107500.0  \n",
      "2020-47   51250.0  107500.0  \n",
      "2020-48   60000.0  107500.0  \n",
      "2020-49   60000.0  107500.0  \n",
      "2020-50   67500.0  107500.0  \n",
      "2020-51   60625.0  107500.0  \n",
      "2020-52   70000.0  107500.0   \n",
      "\n",
      "Monthly:             count          mean           std      min      25%      50%  \\\n",
      "YearMonth                                                                  \n",
      "2020-10    2432.0  42729.235197  26939.500995   7500.0  22500.0  35000.0   \n",
      "2020-11    2490.0  35082.329317  26256.936733   5000.0  15000.0  25000.0   \n",
      "2020-12    2278.0  45143.766462  25883.990593  12500.0  25000.0  35000.0   \n",
      "\n",
      "               75%       max  \n",
      "YearMonth                     \n",
      "2020-10    65000.0  107500.0  \n",
      "2020-11    52500.0  107500.0  \n",
      "2020-12    62500.0  107500.0  \n",
      "\n"
     ]
    }
   ],
   "source": [
    "# Describe each group\n",
    "print(f\"Weekly: {df.groupby('YearWeek').Sales.describe()} \\n\")\n",
    "print(f\"Monthly: {df.groupby('YearMonth').Sales.describe()}\\n\")"
   ]
  },
  {
   "cell_type": "markdown",
   "metadata": {},
   "source": [
    "#### Observations\n",
    "\n",
    "- We only have the last quarter (2020Q4) with a min of 5,000 and a max of 107,5000\n",
    "- We have 14 weeks in total, we can see that the min: \n",
    "    - from week 39 to 43 is consistently 7,500. \n",
    "    - from week 39 to 43 is consistently 7,500. \n",
    "    - from week 44 to 48 went down consistently to 5,000"
   ]
  },
  {
   "cell_type": "markdown",
   "metadata": {},
   "source": [
    "### Data visualization\n",
    "\n",
    "a. Use suitable data visualization libraries to construct a dashboard for the Head of Sales and Marketing (S&M). The dashboard should encompass key parameters:\n",
    "\n",
    "- State-wise Sales Analysis for Different Demographic Groups (Kids, Women, Men, and Seniors).\n",
    "\n",
    "- Group-wise Sales Analysis (Kids, Women, Men, and Seniors) Across Various States.\n",
    "\n",
    "- Time-of-the-Day Analysis: Identify peak and off-peak sales periods to facilitate strategic planning for S&M teams. This information aids in designing programs like hyper-personalization and Next Best Offers to enhance sales."
   ]
  },
  {
   "cell_type": "code",
   "execution_count": 1,
   "metadata": {},
   "outputs": [
    {
     "name": "stdout",
     "output_type": "stream",
     "text": [
      "All packages imported successfully!\n"
     ]
    },
    {
     "ename": "NameError",
     "evalue": "name 'df' is not defined",
     "output_type": "error",
     "traceback": [
      "\u001b[0;31m---------------------------------------------------------------------------\u001b[0m",
      "\u001b[0;31mNameError\u001b[0m                                 Traceback (most recent call last)",
      "Cell \u001b[0;32mIn[1], line 7\u001b[0m\n\u001b[1;32m      4\u001b[0m \u001b[38;5;28;01mimport\u001b[39;00m \u001b[38;5;21;01mseaborn\u001b[39;00m \u001b[38;5;28;01mas\u001b[39;00m \u001b[38;5;21;01msns\u001b[39;00m\n\u001b[1;32m      5\u001b[0m \u001b[38;5;28mprint\u001b[39m(\u001b[38;5;124m\"\u001b[39m\u001b[38;5;124mAll packages imported successfully!\u001b[39m\u001b[38;5;124m\"\u001b[39m)\n\u001b[0;32m----> 7\u001b[0m \u001b[43mdf\u001b[49m\u001b[38;5;241m.\u001b[39mhead(\u001b[38;5;241m20\u001b[39m)\n",
      "\u001b[0;31mNameError\u001b[0m: name 'df' is not defined"
     ]
    }
   ],
   "source": [
    "# To practice \n",
    "import matplotlib.pyplot as plt\n",
    "import plotly.express as px\n",
    "import seaborn as sns\n",
    "print(\"All packages imported successfully!\")\n",
    "\n",
    "df.head(20)"
   ]
  },
  {
   "cell_type": "code",
   "execution_count": 230,
   "metadata": {},
   "outputs": [
    {
     "data": {
      "text/plain": [
       "State  Group  \n",
       "NSW    Kids       68047.169811\n",
       "       Men        69849.624060\n",
       "       Seniors    66020.992366\n",
       "       Women      69933.460076\n",
       "NT     Kids       21111.111111\n",
       "       Men        21342.592593\n",
       "       Seniors    20240.740741\n",
       "       Women      20935.185185\n",
       "QLD    Kids       31518.518519\n",
       "       Men        31083.333333\n",
       "       Seniors    30333.333333\n",
       "       Women      30833.333333\n",
       "SA     Kids       53759.259259\n",
       "       Men        54277.777778\n",
       "       Seniors    54509.259259\n",
       "       Women      55444.444444\n",
       "TAS    Kids       21388.888889\n",
       "       Men        21324.074074\n",
       "       Seniors    20925.925926\n",
       "       Women      20657.407407\n",
       "VIC    Kids       83530.219780\n",
       "       Men        83440.860215\n",
       "       Seniors    82365.591398\n",
       "       Women      84197.368421\n",
       "WA     Kids       20833.333333\n",
       "       Men        21305.555556\n",
       "       Seniors    20416.666667\n",
       "       Women      19490.740741\n",
       "Name: Sales, dtype: float64"
      ]
     },
     "execution_count": 230,
     "metadata": {},
     "output_type": "execute_result"
    },
    {
     "data": {
      "image/png": "[encoded data removed]",
      "text/plain": [
       "<Figure size 640x480 with 4 Axes>"
      ]
     },
     "metadata": {},
     "output_type": "display_data"
    }
   ],
   "source": [
    "\n",
    "# The following code shows how to group the DataFrame by the 'Group' variable and plot the State wise ‘Sales’ of each Group in individual subplots:\n",
    "pd.pivot_table(df,\n",
    "               index='State', columns='Group', values='Sales'\n",
    "              ).plot(subplots=True)\n",
    "df.groupby(['State', 'Group']).Sales.mean()"
   ]
  },
  {
   "cell_type": "code",
   "execution_count": 231,
   "metadata": {},
   "outputs": [
    {
     "data": {
      "text/plain": [
       "Group    State\n",
       "Kids     NSW      68047.169811\n",
       "         NT       21111.111111\n",
       "         QLD      31518.518519\n",
       "         SA       53759.259259\n",
       "         TAS      21388.888889\n",
       "         VIC      83530.219780\n",
       "         WA       20833.333333\n",
       "Men      NSW      69849.624060\n",
       "         NT       21342.592593\n",
       "         QLD      31083.333333\n",
       "         SA       54277.777778\n",
       "         TAS      21324.074074\n",
       "         VIC      83440.860215\n",
       "         WA       21305.555556\n",
       "Seniors  NSW      66020.992366\n",
       "         NT       20240.740741\n",
       "         QLD      30333.333333\n",
       "         SA       54509.259259\n",
       "         TAS      20925.925926\n",
       "         VIC      82365.591398\n",
       "         WA       20416.666667\n",
       "Women    NSW      69933.460076\n",
       "         NT       20935.185185\n",
       "         QLD      30833.333333\n",
       "         SA       55444.444444\n",
       "         TAS      20657.407407\n",
       "         VIC      84197.368421\n",
       "         WA       19490.740741\n",
       "Name: Sales, dtype: float64"
      ]
     },
     "execution_count": 231,
     "metadata": {},
     "output_type": "execute_result"
    },
    {
     "data": {
      "image/png": "[encoded data removed]",
      "text/plain": [
       "<Figure size 640x480 with 7 Axes>"
      ]
     },
     "metadata": {},
     "output_type": "display_data"
    }
   ],
   "source": [
    "# Group-wise Sales Analysis (Kids, Women, Men, and Seniors) Across Various States.\n",
    "#define index column\n",
    "# df.set_index('State', inplace=True)\n",
    "#group data by Group and display sales as line chart\n",
    "# df.groupby('Group')['Sales'].plot(legend=True)\n",
    "\n",
    "\n",
    "# df.columns\n",
    "# if 'Index'in df.index.names:\n",
    "# df.drop(df.columns[[0, 1]], axis=1, inplace=True)\n",
    "# df.head()\n",
    "# print(f\"Indexes: {df.index.names}\")\n",
    "# if 'Date'in df.index.names:\n",
    "#     df.reset_index(inplace=True)\n",
    "\n",
    "pd.pivot_table(df,\n",
    "               index='Group', columns='State', values='Sales'\n",
    "              ).plot(subplots=True)\n",
    "df.groupby(['Group', 'State']).Sales.mean()"
   ]
  },
  {
   "cell_type": "code",
   "execution_count": 232,
   "metadata": {},
   "outputs": [
    {
     "data": {
      "text/plain": [
       "FrozenList([None])"
      ]
     },
     "execution_count": 232,
     "metadata": {},
     "output_type": "execute_result"
    }
   ],
   "source": [
    "sns.set_theme(style=\"whitegrid\")\n",
    "\n",
    "# penguins = sns.load_dataset(\"penguins\")\n",
    "\n",
    "# Draw a nested barplot by species and sex\n",
    "# g = sns.catplot(\n",
    "#     data=df, kind=\"bar\",\n",
    "#     x=\"States\", y=\"Sales\", hue=\"Group\",\n",
    "#     errorbar=\"sd\", palette=\"dark\", alpha=.6, height=6\n",
    "# )\n",
    "# g.despine(left=True)\n",
    "# g.set_axis_labels(\"\", \"Body mass (g)\")\n",
    "# g.legend.set_title(\"\")\n",
    "\n",
    "df.head()\n",
    "df.index.names"
   ]
  },
  {
   "cell_type": "code",
   "execution_count": 233,
   "metadata": {},
   "outputs": [
    {
     "data": {
      "image/png": "[encoded data removed]",
      "text/plain": [
       "<Figure size 640x480 with 1 Axes>"
      ]
     },
     "metadata": {},
     "output_type": "display_data"
    }
   ],
   "source": [
    "# Time-of-the-Day Analysis: Identify peak and off-peak sales periods to facilitate strategic planning for S&M teams. \n",
    "fig, ax = plt.subplots()"
   ]
  },
  {
   "cell_type": "code",
   "execution_count": 234,
   "metadata": {},
   "outputs": [
    {
     "data": {
      "text/plain": [
       "<Axes: xlabel='State', ylabel='Sales'>"
      ]
     },
     "execution_count": 234,
     "metadata": {},
     "output_type": "execute_result"
    },
    {
     "data": {
      "image/png": "[encoded data removed]",
      "text/plain": [
       "<Figure size 640x480 with 1 Axes>"
      ]
     },
     "metadata": {},
     "output_type": "display_data"
    }
   ],
   "source": [
    "sns.boxplot(x='State', y='Sales', data=df)\n"
   ]
  },
  {
   "cell_type": "markdown",
   "metadata": {},
   "source": []
  }
 ],
 "metadata": {
  "kernelspec": {
   "display_name": "Python 3 (ipykernel)",
   "language": "python",
   "name": "python3"
  },
  "language_info": {
   "codemirror_mode": {
    "name": "ipython",
    "version": 3
   },
   "file_extension": ".py",
   "mimetype": "text/x-python",
   "name": "python",
   "nbconvert_exporter": "python",
   "pygments_lexer": "ipython3",
   "version": "3.10.13"
  }
 },
 "nbformat": 4,
 "nbformat_minor": 4
}
